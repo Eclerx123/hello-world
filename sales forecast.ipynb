{
 "cells": [
  {
   "cell_type": "code",
   "execution_count": 1,
   "id": "64c5cffb",
   "metadata": {},
   "outputs": [],
   "source": [
    "import pandas as pd\n",
    "import matplotlib.pyplot as plt\n",
    "import numpy as np\n",
    "import os"
   ]
  },
  {
   "cell_type": "code",
   "execution_count": 2,
   "id": "e5743b52",
   "metadata": {},
   "outputs": [],
   "source": [
    "# the objective is to forecast the state wise sales\n",
    "\n",
    "df=pd.read_excel('C:\\\\Users\\\\Abhishekh\\\\Downloads\\\\Sales_Forecast_Data.xlsx',header=0,index_col=None)"
   ]
  },
  {
   "cell_type": "code",
   "execution_count": 3,
   "id": "12259c0c",
   "metadata": {},
   "outputs": [],
   "source": [
    "df=pd.DataFrame.copy(df) # creating copy of data frame"
   ]
  },
  {
   "cell_type": "code",
   "execution_count": 4,
   "id": "0d93e49f",
   "metadata": {},
   "outputs": [
    {
     "data": {
      "text/plain": [
       "11968"
      ]
     },
     "execution_count": 4,
     "metadata": {},
     "output_type": "execute_result"
    }
   ],
   "source": [
    "df.duplicated().sum() # count of duplicate"
   ]
  },
  {
   "cell_type": "code",
   "execution_count": 5,
   "id": "5e913398",
   "metadata": {},
   "outputs": [],
   "source": [
    "df2=df.drop_duplicates() # deleting exact duplicate"
   ]
  },
  {
   "cell_type": "code",
   "execution_count": 6,
   "id": "0d3ababa",
   "metadata": {},
   "outputs": [
    {
     "data": {
      "text/html": [
       "<div>\n",
       "<style scoped>\n",
       "    .dataframe tbody tr th:only-of-type {\n",
       "        vertical-align: middle;\n",
       "    }\n",
       "\n",
       "    .dataframe tbody tr th {\n",
       "        vertical-align: top;\n",
       "    }\n",
       "\n",
       "    .dataframe thead th {\n",
       "        text-align: right;\n",
       "    }\n",
       "</style>\n",
       "<table border=\"1\" class=\"dataframe\">\n",
       "  <thead>\n",
       "    <tr style=\"text-align: right;\">\n",
       "      <th></th>\n",
       "      <th>FIN_YEAR</th>\n",
       "      <th>MONTH</th>\n",
       "      <th>STATE</th>\n",
       "      <th>FG</th>\n",
       "      <th>DISTRICT</th>\n",
       "      <th>COMPANY</th>\n",
       "      <th>VALUE</th>\n",
       "    </tr>\n",
       "  </thead>\n",
       "  <tbody>\n",
       "    <tr>\n",
       "      <th>count</th>\n",
       "      <td>218184</td>\n",
       "      <td>218184</td>\n",
       "      <td>218184</td>\n",
       "      <td>218184</td>\n",
       "      <td>218184</td>\n",
       "      <td>218184</td>\n",
       "      <td>218184.000000</td>\n",
       "    </tr>\n",
       "    <tr>\n",
       "      <th>unique</th>\n",
       "      <td>4</td>\n",
       "      <td>12</td>\n",
       "      <td>5</td>\n",
       "      <td>4</td>\n",
       "      <td>142</td>\n",
       "      <td>47</td>\n",
       "      <td>NaN</td>\n",
       "    </tr>\n",
       "    <tr>\n",
       "      <th>top</th>\n",
       "      <td>2016-2017</td>\n",
       "      <td>Nov</td>\n",
       "      <td>Uttar Pradesh</td>\n",
       "      <td>Insecticides</td>\n",
       "      <td>Karnal</td>\n",
       "      <td>ABC Manufacturing</td>\n",
       "      <td>NaN</td>\n",
       "    </tr>\n",
       "    <tr>\n",
       "      <th>freq</th>\n",
       "      <td>64314</td>\n",
       "      <td>22669</td>\n",
       "      <td>122644</td>\n",
       "      <td>56298</td>\n",
       "      <td>3142</td>\n",
       "      <td>26443</td>\n",
       "      <td>NaN</td>\n",
       "    </tr>\n",
       "    <tr>\n",
       "      <th>mean</th>\n",
       "      <td>NaN</td>\n",
       "      <td>NaN</td>\n",
       "      <td>NaN</td>\n",
       "      <td>NaN</td>\n",
       "      <td>NaN</td>\n",
       "      <td>NaN</td>\n",
       "      <td>743.528548</td>\n",
       "    </tr>\n",
       "    <tr>\n",
       "      <th>std</th>\n",
       "      <td>NaN</td>\n",
       "      <td>NaN</td>\n",
       "      <td>NaN</td>\n",
       "      <td>NaN</td>\n",
       "      <td>NaN</td>\n",
       "      <td>NaN</td>\n",
       "      <td>2316.652667</td>\n",
       "    </tr>\n",
       "    <tr>\n",
       "      <th>min</th>\n",
       "      <td>NaN</td>\n",
       "      <td>NaN</td>\n",
       "      <td>NaN</td>\n",
       "      <td>NaN</td>\n",
       "      <td>NaN</td>\n",
       "      <td>NaN</td>\n",
       "      <td>0.000000</td>\n",
       "    </tr>\n",
       "    <tr>\n",
       "      <th>25%</th>\n",
       "      <td>NaN</td>\n",
       "      <td>NaN</td>\n",
       "      <td>NaN</td>\n",
       "      <td>NaN</td>\n",
       "      <td>NaN</td>\n",
       "      <td>NaN</td>\n",
       "      <td>0.000000</td>\n",
       "    </tr>\n",
       "    <tr>\n",
       "      <th>50%</th>\n",
       "      <td>NaN</td>\n",
       "      <td>NaN</td>\n",
       "      <td>NaN</td>\n",
       "      <td>NaN</td>\n",
       "      <td>NaN</td>\n",
       "      <td>NaN</td>\n",
       "      <td>0.000000</td>\n",
       "    </tr>\n",
       "    <tr>\n",
       "      <th>75%</th>\n",
       "      <td>NaN</td>\n",
       "      <td>NaN</td>\n",
       "      <td>NaN</td>\n",
       "      <td>NaN</td>\n",
       "      <td>NaN</td>\n",
       "      <td>NaN</td>\n",
       "      <td>310.500000</td>\n",
       "    </tr>\n",
       "    <tr>\n",
       "      <th>max</th>\n",
       "      <td>NaN</td>\n",
       "      <td>NaN</td>\n",
       "      <td>NaN</td>\n",
       "      <td>NaN</td>\n",
       "      <td>NaN</td>\n",
       "      <td>NaN</td>\n",
       "      <td>69828.750000</td>\n",
       "    </tr>\n",
       "  </tbody>\n",
       "</table>\n",
       "</div>"
      ],
      "text/plain": [
       "         FIN_YEAR   MONTH          STATE            FG DISTRICT  \\\n",
       "count      218184  218184         218184        218184   218184   \n",
       "unique          4      12              5             4      142   \n",
       "top     2016-2017     Nov  Uttar Pradesh  Insecticides   Karnal   \n",
       "freq        64314   22669         122644         56298     3142   \n",
       "mean          NaN     NaN            NaN           NaN      NaN   \n",
       "std           NaN     NaN            NaN           NaN      NaN   \n",
       "min           NaN     NaN            NaN           NaN      NaN   \n",
       "25%           NaN     NaN            NaN           NaN      NaN   \n",
       "50%           NaN     NaN            NaN           NaN      NaN   \n",
       "75%           NaN     NaN            NaN           NaN      NaN   \n",
       "max           NaN     NaN            NaN           NaN      NaN   \n",
       "\n",
       "                  COMPANY          VALUE  \n",
       "count              218184  218184.000000  \n",
       "unique                 47            NaN  \n",
       "top     ABC Manufacturing            NaN  \n",
       "freq                26443            NaN  \n",
       "mean                  NaN     743.528548  \n",
       "std                   NaN    2316.652667  \n",
       "min                   NaN       0.000000  \n",
       "25%                   NaN       0.000000  \n",
       "50%                   NaN       0.000000  \n",
       "75%                   NaN     310.500000  \n",
       "max                   NaN   69828.750000  "
      ]
     },
     "execution_count": 6,
     "metadata": {},
     "output_type": "execute_result"
    }
   ],
   "source": [
    "df2.describe(include='all')"
   ]
  },
  {
   "cell_type": "code",
   "execution_count": 7,
   "id": "07df4639",
   "metadata": {},
   "outputs": [],
   "source": [
    "df3=df2[df2['VALUE']>0] # only taking value pesticide"
   ]
  },
  {
   "cell_type": "code",
   "execution_count": 8,
   "id": "bb981e8d",
   "metadata": {},
   "outputs": [
    {
     "data": {
      "text/html": [
       "<div>\n",
       "<style scoped>\n",
       "    .dataframe tbody tr th:only-of-type {\n",
       "        vertical-align: middle;\n",
       "    }\n",
       "\n",
       "    .dataframe tbody tr th {\n",
       "        vertical-align: top;\n",
       "    }\n",
       "\n",
       "    .dataframe thead th {\n",
       "        text-align: right;\n",
       "    }\n",
       "</style>\n",
       "<table border=\"1\" class=\"dataframe\">\n",
       "  <thead>\n",
       "    <tr style=\"text-align: right;\">\n",
       "      <th></th>\n",
       "      <th>FIN_YEAR</th>\n",
       "      <th>MONTH</th>\n",
       "      <th>STATE</th>\n",
       "      <th>FG</th>\n",
       "      <th>DISTRICT</th>\n",
       "      <th>COMPANY</th>\n",
       "      <th>VALUE</th>\n",
       "    </tr>\n",
       "  </thead>\n",
       "  <tbody>\n",
       "    <tr>\n",
       "      <th>count</th>\n",
       "      <td>84563</td>\n",
       "      <td>84563</td>\n",
       "      <td>84563</td>\n",
       "      <td>84563</td>\n",
       "      <td>84563</td>\n",
       "      <td>84563</td>\n",
       "      <td>84563.000000</td>\n",
       "    </tr>\n",
       "    <tr>\n",
       "      <th>unique</th>\n",
       "      <td>4</td>\n",
       "      <td>12</td>\n",
       "      <td>5</td>\n",
       "      <td>4</td>\n",
       "      <td>142</td>\n",
       "      <td>30</td>\n",
       "      <td>NaN</td>\n",
       "    </tr>\n",
       "    <tr>\n",
       "      <th>top</th>\n",
       "      <td>2016-2017</td>\n",
       "      <td>Nov</td>\n",
       "      <td>Uttar Pradesh</td>\n",
       "      <td>Insecticides</td>\n",
       "      <td>Karnal</td>\n",
       "      <td>ABC Manufacturing</td>\n",
       "      <td>NaN</td>\n",
       "    </tr>\n",
       "    <tr>\n",
       "      <th>freq</th>\n",
       "      <td>26843</td>\n",
       "      <td>9389</td>\n",
       "      <td>46355</td>\n",
       "      <td>41538</td>\n",
       "      <td>1508</td>\n",
       "      <td>16599</td>\n",
       "      <td>NaN</td>\n",
       "    </tr>\n",
       "    <tr>\n",
       "      <th>mean</th>\n",
       "      <td>NaN</td>\n",
       "      <td>NaN</td>\n",
       "      <td>NaN</td>\n",
       "      <td>NaN</td>\n",
       "      <td>NaN</td>\n",
       "      <td>NaN</td>\n",
       "      <td>1918.404418</td>\n",
       "    </tr>\n",
       "    <tr>\n",
       "      <th>std</th>\n",
       "      <td>NaN</td>\n",
       "      <td>NaN</td>\n",
       "      <td>NaN</td>\n",
       "      <td>NaN</td>\n",
       "      <td>NaN</td>\n",
       "      <td>NaN</td>\n",
       "      <td>3404.917503</td>\n",
       "    </tr>\n",
       "    <tr>\n",
       "      <th>min</th>\n",
       "      <td>NaN</td>\n",
       "      <td>NaN</td>\n",
       "      <td>NaN</td>\n",
       "      <td>NaN</td>\n",
       "      <td>NaN</td>\n",
       "      <td>NaN</td>\n",
       "      <td>0.135000</td>\n",
       "    </tr>\n",
       "    <tr>\n",
       "      <th>25%</th>\n",
       "      <td>NaN</td>\n",
       "      <td>NaN</td>\n",
       "      <td>NaN</td>\n",
       "      <td>NaN</td>\n",
       "      <td>NaN</td>\n",
       "      <td>NaN</td>\n",
       "      <td>166.050000</td>\n",
       "    </tr>\n",
       "    <tr>\n",
       "      <th>50%</th>\n",
       "      <td>NaN</td>\n",
       "      <td>NaN</td>\n",
       "      <td>NaN</td>\n",
       "      <td>NaN</td>\n",
       "      <td>NaN</td>\n",
       "      <td>NaN</td>\n",
       "      <td>659.340000</td>\n",
       "    </tr>\n",
       "    <tr>\n",
       "      <th>75%</th>\n",
       "      <td>NaN</td>\n",
       "      <td>NaN</td>\n",
       "      <td>NaN</td>\n",
       "      <td>NaN</td>\n",
       "      <td>NaN</td>\n",
       "      <td>NaN</td>\n",
       "      <td>2159.865000</td>\n",
       "    </tr>\n",
       "    <tr>\n",
       "      <th>max</th>\n",
       "      <td>NaN</td>\n",
       "      <td>NaN</td>\n",
       "      <td>NaN</td>\n",
       "      <td>NaN</td>\n",
       "      <td>NaN</td>\n",
       "      <td>NaN</td>\n",
       "      <td>69828.750000</td>\n",
       "    </tr>\n",
       "  </tbody>\n",
       "</table>\n",
       "</div>"
      ],
      "text/plain": [
       "         FIN_YEAR  MONTH          STATE            FG DISTRICT  \\\n",
       "count       84563  84563          84563         84563    84563   \n",
       "unique          4     12              5             4      142   \n",
       "top     2016-2017    Nov  Uttar Pradesh  Insecticides   Karnal   \n",
       "freq        26843   9389          46355         41538     1508   \n",
       "mean          NaN    NaN            NaN           NaN      NaN   \n",
       "std           NaN    NaN            NaN           NaN      NaN   \n",
       "min           NaN    NaN            NaN           NaN      NaN   \n",
       "25%           NaN    NaN            NaN           NaN      NaN   \n",
       "50%           NaN    NaN            NaN           NaN      NaN   \n",
       "75%           NaN    NaN            NaN           NaN      NaN   \n",
       "max           NaN    NaN            NaN           NaN      NaN   \n",
       "\n",
       "                  COMPANY         VALUE  \n",
       "count               84563  84563.000000  \n",
       "unique                 30           NaN  \n",
       "top     ABC Manufacturing           NaN  \n",
       "freq                16599           NaN  \n",
       "mean                  NaN   1918.404418  \n",
       "std                   NaN   3404.917503  \n",
       "min                   NaN      0.135000  \n",
       "25%                   NaN    166.050000  \n",
       "50%                   NaN    659.340000  \n",
       "75%                   NaN   2159.865000  \n",
       "max                   NaN  69828.750000  "
      ]
     },
     "execution_count": 8,
     "metadata": {},
     "output_type": "execute_result"
    }
   ],
   "source": [
    "df3.describe(include='all')"
   ]
  },
  {
   "cell_type": "code",
   "execution_count": 9,
   "id": "91397a1d",
   "metadata": {},
   "outputs": [
    {
     "data": {
      "text/html": [
       "<div>\n",
       "<style scoped>\n",
       "    .dataframe tbody tr th:only-of-type {\n",
       "        vertical-align: middle;\n",
       "    }\n",
       "\n",
       "    .dataframe tbody tr th {\n",
       "        vertical-align: top;\n",
       "    }\n",
       "\n",
       "    .dataframe thead th {\n",
       "        text-align: right;\n",
       "    }\n",
       "</style>\n",
       "<table border=\"1\" class=\"dataframe\">\n",
       "  <thead>\n",
       "    <tr style=\"text-align: right;\">\n",
       "      <th></th>\n",
       "      <th>FIN_YEAR</th>\n",
       "      <th>MONTH</th>\n",
       "      <th>STATE</th>\n",
       "      <th>FG</th>\n",
       "      <th>DISTRICT</th>\n",
       "      <th>COMPANY</th>\n",
       "      <th>VALUE</th>\n",
       "    </tr>\n",
       "  </thead>\n",
       "  <tbody>\n",
       "    <tr>\n",
       "      <th>0</th>\n",
       "      <td>2014-2015</td>\n",
       "      <td>Nov</td>\n",
       "      <td>Haryana</td>\n",
       "      <td>Insecticides</td>\n",
       "      <td>Rohtak</td>\n",
       "      <td>monous</td>\n",
       "      <td>675.000</td>\n",
       "    </tr>\n",
       "    <tr>\n",
       "      <th>1</th>\n",
       "      <td>2014-2015</td>\n",
       "      <td>Nov</td>\n",
       "      <td>Haryana</td>\n",
       "      <td>Insecticides</td>\n",
       "      <td>Rewari</td>\n",
       "      <td>monous</td>\n",
       "      <td>73.710</td>\n",
       "    </tr>\n",
       "    <tr>\n",
       "      <th>2</th>\n",
       "      <td>2014-2015</td>\n",
       "      <td>Nov</td>\n",
       "      <td>Haryana</td>\n",
       "      <td>Insecticides</td>\n",
       "      <td>Gurgaon</td>\n",
       "      <td>monous</td>\n",
       "      <td>405.000</td>\n",
       "    </tr>\n",
       "    <tr>\n",
       "      <th>3</th>\n",
       "      <td>2014-2015</td>\n",
       "      <td>Nov</td>\n",
       "      <td>Haryana</td>\n",
       "      <td>Insecticides</td>\n",
       "      <td>Mewat</td>\n",
       "      <td>monous</td>\n",
       "      <td>1188.000</td>\n",
       "    </tr>\n",
       "    <tr>\n",
       "      <th>4</th>\n",
       "      <td>2014-2015</td>\n",
       "      <td>Nov</td>\n",
       "      <td>Haryana</td>\n",
       "      <td>Insecticides</td>\n",
       "      <td>Palwal</td>\n",
       "      <td>monous</td>\n",
       "      <td>5188.590</td>\n",
       "    </tr>\n",
       "    <tr>\n",
       "      <th>...</th>\n",
       "      <td>...</td>\n",
       "      <td>...</td>\n",
       "      <td>...</td>\n",
       "      <td>...</td>\n",
       "      <td>...</td>\n",
       "      <td>...</td>\n",
       "      <td>...</td>\n",
       "    </tr>\n",
       "    <tr>\n",
       "      <th>230116</th>\n",
       "      <td>2016-2017</td>\n",
       "      <td>Mar</td>\n",
       "      <td>Punjab</td>\n",
       "      <td>Bactericides</td>\n",
       "      <td>Sangrur</td>\n",
       "      <td>cynoid</td>\n",
       "      <td>95.445</td>\n",
       "    </tr>\n",
       "    <tr>\n",
       "      <th>230139</th>\n",
       "      <td>2016-2017</td>\n",
       "      <td>Aug</td>\n",
       "      <td>Uttar Pradesh</td>\n",
       "      <td>Bactericides</td>\n",
       "      <td>Jyotiba Phule Nagar</td>\n",
       "      <td>scire</td>\n",
       "      <td>13.500</td>\n",
       "    </tr>\n",
       "    <tr>\n",
       "      <th>230141</th>\n",
       "      <td>2016-2017</td>\n",
       "      <td>Aug</td>\n",
       "      <td>Uttar Pradesh</td>\n",
       "      <td>Bactericides</td>\n",
       "      <td>Kanpur Nagar</td>\n",
       "      <td>scire</td>\n",
       "      <td>270.810</td>\n",
       "    </tr>\n",
       "    <tr>\n",
       "      <th>230148</th>\n",
       "      <td>2016-2017</td>\n",
       "      <td>Dec</td>\n",
       "      <td>Uttar Pradesh</td>\n",
       "      <td>Bactericides</td>\n",
       "      <td>Bulandshahr</td>\n",
       "      <td>disescent</td>\n",
       "      <td>6.750</td>\n",
       "    </tr>\n",
       "    <tr>\n",
       "      <th>230150</th>\n",
       "      <td>2016-2017</td>\n",
       "      <td>Dec</td>\n",
       "      <td>Uttar Pradesh</td>\n",
       "      <td>Bactericides</td>\n",
       "      <td>Basti</td>\n",
       "      <td>disescent</td>\n",
       "      <td>486.000</td>\n",
       "    </tr>\n",
       "  </tbody>\n",
       "</table>\n",
       "<p>84563 rows × 7 columns</p>\n",
       "</div>"
      ],
      "text/plain": [
       "         FIN_YEAR MONTH          STATE            FG             DISTRICT  \\\n",
       "0       2014-2015   Nov        Haryana  Insecticides               Rohtak   \n",
       "1       2014-2015   Nov        Haryana  Insecticides               Rewari   \n",
       "2       2014-2015   Nov        Haryana  Insecticides              Gurgaon   \n",
       "3       2014-2015   Nov        Haryana  Insecticides                Mewat   \n",
       "4       2014-2015   Nov        Haryana  Insecticides               Palwal   \n",
       "...           ...   ...            ...           ...                  ...   \n",
       "230116  2016-2017   Mar         Punjab  Bactericides              Sangrur   \n",
       "230139  2016-2017   Aug  Uttar Pradesh  Bactericides  Jyotiba Phule Nagar   \n",
       "230141  2016-2017   Aug  Uttar Pradesh  Bactericides         Kanpur Nagar   \n",
       "230148  2016-2017   Dec  Uttar Pradesh  Bactericides          Bulandshahr   \n",
       "230150  2016-2017   Dec  Uttar Pradesh  Bactericides                Basti   \n",
       "\n",
       "           COMPANY     VALUE  \n",
       "0          monous    675.000  \n",
       "1          monous     73.710  \n",
       "2          monous    405.000  \n",
       "3          monous   1188.000  \n",
       "4          monous   5188.590  \n",
       "...            ...       ...  \n",
       "230116     cynoid     95.445  \n",
       "230139      scire     13.500  \n",
       "230141      scire    270.810  \n",
       "230148  disescent      6.750  \n",
       "230150  disescent    486.000  \n",
       "\n",
       "[84563 rows x 7 columns]"
      ]
     },
     "execution_count": 9,
     "metadata": {},
     "output_type": "execute_result"
    }
   ],
   "source": [
    "df3"
   ]
  },
  {
   "cell_type": "code",
   "execution_count": 10,
   "id": "5255f8a1",
   "metadata": {},
   "outputs": [
    {
     "name": "stderr",
     "output_type": "stream",
     "text": [
      "C:\\Users\\Abhishekh\\anaconda3\\lib\\site-packages\\pandas\\core\\indexing.py:1599: SettingWithCopyWarning: \n",
      "A value is trying to be set on a copy of a slice from a DataFrame.\n",
      "Try using .loc[row_indexer,col_indexer] = value instead\n",
      "\n",
      "See the caveats in the documentation: https://pandas.pydata.org/pandas-docs/stable/user_guide/indexing.html#returning-a-view-versus-a-copy\n",
      "  self.obj[key] = infer_fill_value(value)\n",
      "C:\\Users\\Abhishekh\\anaconda3\\lib\\site-packages\\pandas\\core\\indexing.py:1676: SettingWithCopyWarning: \n",
      "A value is trying to be set on a copy of a slice from a DataFrame.\n",
      "Try using .loc[row_indexer,col_indexer] = value instead\n",
      "\n",
      "See the caveats in the documentation: https://pandas.pydata.org/pandas-docs/stable/user_guide/indexing.html#returning-a-view-versus-a-copy\n",
      "  self._setitem_single_column(ilocs[0], value, pi)\n"
     ]
    }
   ],
   "source": [
    "df3.loc[((df3.MONTH=='Jan')|(df3.MONTH=='Feb')|(df3.MONTH=='Mar')), 'Month-Year'] = '1'+\"-\"+df3.MONTH+\"-\"+df3.FIN_YEAR.str[5:]\n",
    "df3.loc[~((df3.MONTH=='Jan')|(df3.MONTH=='Feb')|(df3.MONTH=='Mar')), 'Month-Year'] = '1'+\"-\"+df3.MONTH+\"-\"+df3.FIN_YEAR.str[:4]\n",
    "# changing FIn-Year in to date date wise"
   ]
  },
  {
   "cell_type": "code",
   "execution_count": 11,
   "id": "5e9caf0f",
   "metadata": {},
   "outputs": [
    {
     "data": {
      "text/html": [
       "<div>\n",
       "<style scoped>\n",
       "    .dataframe tbody tr th:only-of-type {\n",
       "        vertical-align: middle;\n",
       "    }\n",
       "\n",
       "    .dataframe tbody tr th {\n",
       "        vertical-align: top;\n",
       "    }\n",
       "\n",
       "    .dataframe thead th {\n",
       "        text-align: right;\n",
       "    }\n",
       "</style>\n",
       "<table border=\"1\" class=\"dataframe\">\n",
       "  <thead>\n",
       "    <tr style=\"text-align: right;\">\n",
       "      <th></th>\n",
       "      <th>FIN_YEAR</th>\n",
       "      <th>MONTH</th>\n",
       "      <th>STATE</th>\n",
       "      <th>FG</th>\n",
       "      <th>DISTRICT</th>\n",
       "      <th>COMPANY</th>\n",
       "      <th>VALUE</th>\n",
       "      <th>Month-Year</th>\n",
       "    </tr>\n",
       "  </thead>\n",
       "  <tbody>\n",
       "    <tr>\n",
       "      <th>0</th>\n",
       "      <td>2014-2015</td>\n",
       "      <td>Nov</td>\n",
       "      <td>Haryana</td>\n",
       "      <td>Insecticides</td>\n",
       "      <td>Rohtak</td>\n",
       "      <td>monous</td>\n",
       "      <td>675.000</td>\n",
       "      <td>1-Nov-2014</td>\n",
       "    </tr>\n",
       "    <tr>\n",
       "      <th>1</th>\n",
       "      <td>2014-2015</td>\n",
       "      <td>Nov</td>\n",
       "      <td>Haryana</td>\n",
       "      <td>Insecticides</td>\n",
       "      <td>Rewari</td>\n",
       "      <td>monous</td>\n",
       "      <td>73.710</td>\n",
       "      <td>1-Nov-2014</td>\n",
       "    </tr>\n",
       "    <tr>\n",
       "      <th>2</th>\n",
       "      <td>2014-2015</td>\n",
       "      <td>Nov</td>\n",
       "      <td>Haryana</td>\n",
       "      <td>Insecticides</td>\n",
       "      <td>Gurgaon</td>\n",
       "      <td>monous</td>\n",
       "      <td>405.000</td>\n",
       "      <td>1-Nov-2014</td>\n",
       "    </tr>\n",
       "    <tr>\n",
       "      <th>3</th>\n",
       "      <td>2014-2015</td>\n",
       "      <td>Nov</td>\n",
       "      <td>Haryana</td>\n",
       "      <td>Insecticides</td>\n",
       "      <td>Mewat</td>\n",
       "      <td>monous</td>\n",
       "      <td>1188.000</td>\n",
       "      <td>1-Nov-2014</td>\n",
       "    </tr>\n",
       "    <tr>\n",
       "      <th>4</th>\n",
       "      <td>2014-2015</td>\n",
       "      <td>Nov</td>\n",
       "      <td>Haryana</td>\n",
       "      <td>Insecticides</td>\n",
       "      <td>Palwal</td>\n",
       "      <td>monous</td>\n",
       "      <td>5188.590</td>\n",
       "      <td>1-Nov-2014</td>\n",
       "    </tr>\n",
       "    <tr>\n",
       "      <th>...</th>\n",
       "      <td>...</td>\n",
       "      <td>...</td>\n",
       "      <td>...</td>\n",
       "      <td>...</td>\n",
       "      <td>...</td>\n",
       "      <td>...</td>\n",
       "      <td>...</td>\n",
       "      <td>...</td>\n",
       "    </tr>\n",
       "    <tr>\n",
       "      <th>230116</th>\n",
       "      <td>2016-2017</td>\n",
       "      <td>Mar</td>\n",
       "      <td>Punjab</td>\n",
       "      <td>Bactericides</td>\n",
       "      <td>Sangrur</td>\n",
       "      <td>cynoid</td>\n",
       "      <td>95.445</td>\n",
       "      <td>1-Mar-2017</td>\n",
       "    </tr>\n",
       "    <tr>\n",
       "      <th>230139</th>\n",
       "      <td>2016-2017</td>\n",
       "      <td>Aug</td>\n",
       "      <td>Uttar Pradesh</td>\n",
       "      <td>Bactericides</td>\n",
       "      <td>Jyotiba Phule Nagar</td>\n",
       "      <td>scire</td>\n",
       "      <td>13.500</td>\n",
       "      <td>1-Aug-2016</td>\n",
       "    </tr>\n",
       "    <tr>\n",
       "      <th>230141</th>\n",
       "      <td>2016-2017</td>\n",
       "      <td>Aug</td>\n",
       "      <td>Uttar Pradesh</td>\n",
       "      <td>Bactericides</td>\n",
       "      <td>Kanpur Nagar</td>\n",
       "      <td>scire</td>\n",
       "      <td>270.810</td>\n",
       "      <td>1-Aug-2016</td>\n",
       "    </tr>\n",
       "    <tr>\n",
       "      <th>230148</th>\n",
       "      <td>2016-2017</td>\n",
       "      <td>Dec</td>\n",
       "      <td>Uttar Pradesh</td>\n",
       "      <td>Bactericides</td>\n",
       "      <td>Bulandshahr</td>\n",
       "      <td>disescent</td>\n",
       "      <td>6.750</td>\n",
       "      <td>1-Dec-2016</td>\n",
       "    </tr>\n",
       "    <tr>\n",
       "      <th>230150</th>\n",
       "      <td>2016-2017</td>\n",
       "      <td>Dec</td>\n",
       "      <td>Uttar Pradesh</td>\n",
       "      <td>Bactericides</td>\n",
       "      <td>Basti</td>\n",
       "      <td>disescent</td>\n",
       "      <td>486.000</td>\n",
       "      <td>1-Dec-2016</td>\n",
       "    </tr>\n",
       "  </tbody>\n",
       "</table>\n",
       "<p>84563 rows × 8 columns</p>\n",
       "</div>"
      ],
      "text/plain": [
       "         FIN_YEAR MONTH          STATE            FG             DISTRICT  \\\n",
       "0       2014-2015   Nov        Haryana  Insecticides               Rohtak   \n",
       "1       2014-2015   Nov        Haryana  Insecticides               Rewari   \n",
       "2       2014-2015   Nov        Haryana  Insecticides              Gurgaon   \n",
       "3       2014-2015   Nov        Haryana  Insecticides                Mewat   \n",
       "4       2014-2015   Nov        Haryana  Insecticides               Palwal   \n",
       "...           ...   ...            ...           ...                  ...   \n",
       "230116  2016-2017   Mar         Punjab  Bactericides              Sangrur   \n",
       "230139  2016-2017   Aug  Uttar Pradesh  Bactericides  Jyotiba Phule Nagar   \n",
       "230141  2016-2017   Aug  Uttar Pradesh  Bactericides         Kanpur Nagar   \n",
       "230148  2016-2017   Dec  Uttar Pradesh  Bactericides          Bulandshahr   \n",
       "230150  2016-2017   Dec  Uttar Pradesh  Bactericides                Basti   \n",
       "\n",
       "           COMPANY     VALUE  Month-Year  \n",
       "0          monous    675.000  1-Nov-2014  \n",
       "1          monous     73.710  1-Nov-2014  \n",
       "2          monous    405.000  1-Nov-2014  \n",
       "3          monous   1188.000  1-Nov-2014  \n",
       "4          monous   5188.590  1-Nov-2014  \n",
       "...            ...       ...         ...  \n",
       "230116     cynoid     95.445  1-Mar-2017  \n",
       "230139      scire     13.500  1-Aug-2016  \n",
       "230141      scire    270.810  1-Aug-2016  \n",
       "230148  disescent      6.750  1-Dec-2016  \n",
       "230150  disescent    486.000  1-Dec-2016  \n",
       "\n",
       "[84563 rows x 8 columns]"
      ]
     },
     "execution_count": 11,
     "metadata": {},
     "output_type": "execute_result"
    }
   ],
   "source": [
    "df3"
   ]
  },
  {
   "cell_type": "code",
   "execution_count": 12,
   "id": "d753f683",
   "metadata": {},
   "outputs": [
    {
     "name": "stdout",
     "output_type": "stream",
     "text": [
      "{'FIN_YEAR': array(['2014-2015', '2015-2016', '2016-2017', '2017-2018'], dtype=object)}\n",
      "{'MONTH': array(['Nov', 'Dec', 'Jul', 'Jun', 'Aug', 'Sep', 'Oct', 'Apr', 'Feb',\n",
      "       'May', 'Jan', 'Mar'], dtype=object)}\n",
      "{'STATE': array(['Haryana', 'Himachal Pradesh', 'Punjab', 'Uttar Pradesh',\n",
      "       'Uttarakhand'], dtype=object)}\n",
      "{'FG': array(['Insecticides', 'Herbicides', 'Rodenticides', 'Bactericides'],\n",
      "      dtype=object)}\n",
      "{'DISTRICT': array(['Rohtak', 'Rewari', 'Gurgaon', 'Mewat', 'Palwal', 'Kurukshetra',\n",
      "       'Kaithal', 'Fatehabad', 'Sirsa', 'Hisar', 'Bhiwani', 'Yamunanagar',\n",
      "       'Karnal', 'Panipat', 'Jind', 'Sonipat', 'Ambala', 'Mahendragarh',\n",
      "       'Faridabad', 'Panchkula', 'Sirmaur', 'Shimla', 'Kinnaur', 'Kangra',\n",
      "       'Kullu', 'Mandi', 'Hamirpur', 'Bilaspur', 'Solan', 'Chamba',\n",
      "       'Lahul And Spiti', 'Una', 'Jhajjar', 'Muktsar', 'Bathinda',\n",
      "       'Mansa', 'Patiala', 'Amritsar', 'Tarn Taran', 'Sangrur',\n",
      "       'Gurdaspur', 'Kapurthala', 'Jalandhar', 'Hoshiarpur', 'Nawanshahr',\n",
      "       'Fatehgarh Sahib', 'Ludhiana', 'Moga', 'Faridkot', 'Rupnagar',\n",
      "       'Barnala', 'Firozepur', 'S.A.S Nagar', 'Meerut', 'Baghpat',\n",
      "       'Ghaziabad', 'Saharanpur', 'Muzaffarnagar', 'Bijnor', 'Moradabad',\n",
      "       'Rampur', 'Jyotiba Phule Nagar', 'Gautam Buddha Nagar',\n",
      "       'Bulandshahr', 'Aligarh', 'Mahamaya Nagar', 'Mathura', 'Agra',\n",
      "       'Mainpuri', 'Budaun', 'Bareilly', 'Pilibhit', 'Shahjahanpur',\n",
      "       'Kheri', 'Sitapur', 'Hardoi', 'Unnao', 'Rae Bareli', 'Farrukhabad',\n",
      "       'Kannauj', 'Etawah', 'Auraiya', 'Kanpur Dehat', 'Kanpur Nagar',\n",
      "       'Fatehpur', 'Allahabad', 'Barabanki', 'Ambedkar Nagar', 'Bahraich',\n",
      "       'Gonda', 'Siddharth Nagar', 'Firozabad', 'Jalaun', 'Shravasti',\n",
      "       'Basti', 'Maharajganj', 'Gorakhpur', 'Azamgarh', 'Mau', 'Ballia',\n",
      "       'Jaunpur', 'Ghazipur', 'Chandauli', 'Varanasi', 'Mirzapur',\n",
      "       'Kanshiram Nagar', 'Lalitpur', 'Pratapgarh', 'Faizabad',\n",
      "       'Sultanpur', 'Balrampur', 'Sant Kabeer Nagar', 'Kushi Nagar',\n",
      "       'Deoria', 'Etah', 'Amethi', 'Jhansi', 'Lucknow', 'Chitrakoot',\n",
      "       'Kaushambi', 'Sant Ravidas Nagar', 'Sonbhadra', 'Banda', 'Mahoba',\n",
      "       'Udam Singh Nagar', 'Pauri Garhwal', 'Nainital', 'Haridwar',\n",
      "       'Dehradun', 'Pithoragarh', 'Rudra Prayag', 'Champawat', 'Chamoli',\n",
      "       'Tehri Garhwal', 'Bageshwar', 'Almora', 'Uttar Kashi', 'Hapur',\n",
      "       'Sambhal', 'Shamli', 'Fazilka', 'Pathankot'], dtype=object)}\n",
      "{'COMPANY': array(['monous ', 'cynoid ', 'exicious ', 'venible ', 'ABC Manufacturing',\n",
      "       'disescent ', 'janu ', 'idiombee ', 'trita ', 'zooloo ', 'unimm ',\n",
      "       'flimbo ', 'agizu ', 'unent ', 'socimbee ', 'interosis ',\n",
      "       'dominive ', 'hemify ', 'archile ', 'kadoo ', 'esose ', 'subism ',\n",
      "       'maler ', 'oyofix ', 'intravu ', 'scire ', 'avape ', 'domise ',\n",
      "       'centicee ', 'insulescent '], dtype=object)}\n",
      "{'VALUE': array([ 675.   ,   73.71 ,  405.   , ..., 3811.05 , 2880.495, 1738.125])}\n",
      "{'Month-Year': array(['1-Nov-2014', '1-Dec-2014', '1-Jul-2014', '1-Jun-2014',\n",
      "       '1-Aug-2014', '1-Sep-2014', '1-Oct-2014', '1-Apr-2014',\n",
      "       '1-Feb-2015', '1-May-2014', '1-Jan-2015', '1-Mar-2015',\n",
      "       '1-Jan-2016', '1-Feb-2016', '1-Jun-2015', '1-Apr-2015',\n",
      "       '1-May-2015', '1-Aug-2015', '1-Sep-2015', '1-Jul-2015',\n",
      "       '1-Oct-2015', '1-Nov-2015', '1-Dec-2015', '1-Mar-2016',\n",
      "       '1-Jul-2016', '1-Aug-2016', '1-Feb-2017', '1-Jan-2017',\n",
      "       '1-May-2016', '1-Oct-2016', '1-Dec-2016', '1-Jun-2016',\n",
      "       '1-Sep-2016', '1-Nov-2016', '1-Apr-2016', '1-Mar-2017',\n",
      "       '1-Jun-2017', '1-Apr-2017', '1-May-2017', '1-Jul-2017',\n",
      "       '1-Oct-2017', '1-Nov-2017', '1-Sep-2017', '1-Aug-2017',\n",
      "       '1-Jan-2018', '1-Dec-2017'], dtype=object)}\n"
     ]
    }
   ],
   "source": [
    "for i in df3.columns:\n",
    "    print({i:df3[i].unique()}) # getting unique"
   ]
  },
  {
   "cell_type": "code",
   "execution_count": 13,
   "id": "ffaf02e0",
   "metadata": {},
   "outputs": [
    {
     "name": "stderr",
     "output_type": "stream",
     "text": [
      "C:\\Users\\Abhishekh\\anaconda3\\lib\\site-packages\\pandas\\core\\series.py:4509: SettingWithCopyWarning: \n",
      "A value is trying to be set on a copy of a slice from a DataFrame\n",
      "\n",
      "See the caveats in the documentation: https://pandas.pydata.org/pandas-docs/stable/user_guide/indexing.html#returning-a-view-versus-a-copy\n",
      "  return super().replace(\n"
     ]
    }
   ],
   "source": [
    "# Converting all the categorical names in FG to Pesticides ( Single Category)\n",
    "df3[\"FG\"].replace({\"Bactericides\": \"Pesticides\", \"Insecticides\": \"Pesticides\",\n",
    "                    \"Herbicides\": \"Pesticides\",\"Rodenticides\": \"Pesticides\"}, inplace=True)"
   ]
  },
  {
   "cell_type": "code",
   "execution_count": 14,
   "id": "8ab2a69b",
   "metadata": {},
   "outputs": [
    {
     "data": {
      "text/html": [
       "<div>\n",
       "<style scoped>\n",
       "    .dataframe tbody tr th:only-of-type {\n",
       "        vertical-align: middle;\n",
       "    }\n",
       "\n",
       "    .dataframe tbody tr th {\n",
       "        vertical-align: top;\n",
       "    }\n",
       "\n",
       "    .dataframe thead th {\n",
       "        text-align: right;\n",
       "    }\n",
       "</style>\n",
       "<table border=\"1\" class=\"dataframe\">\n",
       "  <thead>\n",
       "    <tr style=\"text-align: right;\">\n",
       "      <th></th>\n",
       "      <th>FIN_YEAR</th>\n",
       "      <th>MONTH</th>\n",
       "      <th>STATE</th>\n",
       "      <th>FG</th>\n",
       "      <th>DISTRICT</th>\n",
       "      <th>COMPANY</th>\n",
       "      <th>VALUE</th>\n",
       "      <th>Month-Year</th>\n",
       "    </tr>\n",
       "  </thead>\n",
       "  <tbody>\n",
       "    <tr>\n",
       "      <th>0</th>\n",
       "      <td>2014-2015</td>\n",
       "      <td>Nov</td>\n",
       "      <td>Haryana</td>\n",
       "      <td>Pesticides</td>\n",
       "      <td>Rohtak</td>\n",
       "      <td>monous</td>\n",
       "      <td>675.000</td>\n",
       "      <td>1-Nov-2014</td>\n",
       "    </tr>\n",
       "    <tr>\n",
       "      <th>1</th>\n",
       "      <td>2014-2015</td>\n",
       "      <td>Nov</td>\n",
       "      <td>Haryana</td>\n",
       "      <td>Pesticides</td>\n",
       "      <td>Rewari</td>\n",
       "      <td>monous</td>\n",
       "      <td>73.710</td>\n",
       "      <td>1-Nov-2014</td>\n",
       "    </tr>\n",
       "    <tr>\n",
       "      <th>2</th>\n",
       "      <td>2014-2015</td>\n",
       "      <td>Nov</td>\n",
       "      <td>Haryana</td>\n",
       "      <td>Pesticides</td>\n",
       "      <td>Gurgaon</td>\n",
       "      <td>monous</td>\n",
       "      <td>405.000</td>\n",
       "      <td>1-Nov-2014</td>\n",
       "    </tr>\n",
       "    <tr>\n",
       "      <th>3</th>\n",
       "      <td>2014-2015</td>\n",
       "      <td>Nov</td>\n",
       "      <td>Haryana</td>\n",
       "      <td>Pesticides</td>\n",
       "      <td>Mewat</td>\n",
       "      <td>monous</td>\n",
       "      <td>1188.000</td>\n",
       "      <td>1-Nov-2014</td>\n",
       "    </tr>\n",
       "    <tr>\n",
       "      <th>4</th>\n",
       "      <td>2014-2015</td>\n",
       "      <td>Nov</td>\n",
       "      <td>Haryana</td>\n",
       "      <td>Pesticides</td>\n",
       "      <td>Palwal</td>\n",
       "      <td>monous</td>\n",
       "      <td>5188.590</td>\n",
       "      <td>1-Nov-2014</td>\n",
       "    </tr>\n",
       "    <tr>\n",
       "      <th>...</th>\n",
       "      <td>...</td>\n",
       "      <td>...</td>\n",
       "      <td>...</td>\n",
       "      <td>...</td>\n",
       "      <td>...</td>\n",
       "      <td>...</td>\n",
       "      <td>...</td>\n",
       "      <td>...</td>\n",
       "    </tr>\n",
       "    <tr>\n",
       "      <th>230116</th>\n",
       "      <td>2016-2017</td>\n",
       "      <td>Mar</td>\n",
       "      <td>Punjab</td>\n",
       "      <td>Pesticides</td>\n",
       "      <td>Sangrur</td>\n",
       "      <td>cynoid</td>\n",
       "      <td>95.445</td>\n",
       "      <td>1-Mar-2017</td>\n",
       "    </tr>\n",
       "    <tr>\n",
       "      <th>230139</th>\n",
       "      <td>2016-2017</td>\n",
       "      <td>Aug</td>\n",
       "      <td>Uttar Pradesh</td>\n",
       "      <td>Pesticides</td>\n",
       "      <td>Jyotiba Phule Nagar</td>\n",
       "      <td>scire</td>\n",
       "      <td>13.500</td>\n",
       "      <td>1-Aug-2016</td>\n",
       "    </tr>\n",
       "    <tr>\n",
       "      <th>230141</th>\n",
       "      <td>2016-2017</td>\n",
       "      <td>Aug</td>\n",
       "      <td>Uttar Pradesh</td>\n",
       "      <td>Pesticides</td>\n",
       "      <td>Kanpur Nagar</td>\n",
       "      <td>scire</td>\n",
       "      <td>270.810</td>\n",
       "      <td>1-Aug-2016</td>\n",
       "    </tr>\n",
       "    <tr>\n",
       "      <th>230148</th>\n",
       "      <td>2016-2017</td>\n",
       "      <td>Dec</td>\n",
       "      <td>Uttar Pradesh</td>\n",
       "      <td>Pesticides</td>\n",
       "      <td>Bulandshahr</td>\n",
       "      <td>disescent</td>\n",
       "      <td>6.750</td>\n",
       "      <td>1-Dec-2016</td>\n",
       "    </tr>\n",
       "    <tr>\n",
       "      <th>230150</th>\n",
       "      <td>2016-2017</td>\n",
       "      <td>Dec</td>\n",
       "      <td>Uttar Pradesh</td>\n",
       "      <td>Pesticides</td>\n",
       "      <td>Basti</td>\n",
       "      <td>disescent</td>\n",
       "      <td>486.000</td>\n",
       "      <td>1-Dec-2016</td>\n",
       "    </tr>\n",
       "  </tbody>\n",
       "</table>\n",
       "<p>84563 rows × 8 columns</p>\n",
       "</div>"
      ],
      "text/plain": [
       "         FIN_YEAR MONTH          STATE          FG             DISTRICT  \\\n",
       "0       2014-2015   Nov        Haryana  Pesticides               Rohtak   \n",
       "1       2014-2015   Nov        Haryana  Pesticides               Rewari   \n",
       "2       2014-2015   Nov        Haryana  Pesticides              Gurgaon   \n",
       "3       2014-2015   Nov        Haryana  Pesticides                Mewat   \n",
       "4       2014-2015   Nov        Haryana  Pesticides               Palwal   \n",
       "...           ...   ...            ...         ...                  ...   \n",
       "230116  2016-2017   Mar         Punjab  Pesticides              Sangrur   \n",
       "230139  2016-2017   Aug  Uttar Pradesh  Pesticides  Jyotiba Phule Nagar   \n",
       "230141  2016-2017   Aug  Uttar Pradesh  Pesticides         Kanpur Nagar   \n",
       "230148  2016-2017   Dec  Uttar Pradesh  Pesticides          Bulandshahr   \n",
       "230150  2016-2017   Dec  Uttar Pradesh  Pesticides                Basti   \n",
       "\n",
       "           COMPANY     VALUE  Month-Year  \n",
       "0          monous    675.000  1-Nov-2014  \n",
       "1          monous     73.710  1-Nov-2014  \n",
       "2          monous    405.000  1-Nov-2014  \n",
       "3          monous   1188.000  1-Nov-2014  \n",
       "4          monous   5188.590  1-Nov-2014  \n",
       "...            ...       ...         ...  \n",
       "230116     cynoid     95.445  1-Mar-2017  \n",
       "230139      scire     13.500  1-Aug-2016  \n",
       "230141      scire    270.810  1-Aug-2016  \n",
       "230148  disescent      6.750  1-Dec-2016  \n",
       "230150  disescent    486.000  1-Dec-2016  \n",
       "\n",
       "[84563 rows x 8 columns]"
      ]
     },
     "execution_count": 14,
     "metadata": {},
     "output_type": "execute_result"
    }
   ],
   "source": [
    "df3"
   ]
  },
  {
   "cell_type": "code",
   "execution_count": 15,
   "id": "43073241",
   "metadata": {},
   "outputs": [
    {
     "data": {
      "text/plain": [
       "<AxesSubplot:xlabel='STATE', ylabel='VALUE'>"
      ]
     },
     "execution_count": 15,
     "metadata": {},
     "output_type": "execute_result"
    },
    {
     "data": {
      "image/png": "[encoded data removed]",
      "text/plain": [
       "<Figure size 432x288 with 1 Axes>"
      ]
     },
     "metadata": {
      "needs_background": "light"
     },
     "output_type": "display_data"
    }
   ],
   "source": [
    "import seaborn as sns\n",
    "sns.barplot(x='STATE',y='VALUE',data=df3,estimator=np.mean) # state wise sales value here we can see punjab has maximum sales"
   ]
  },
  {
   "cell_type": "code",
   "execution_count": 16,
   "id": "7e74da3b",
   "metadata": {},
   "outputs": [
    {
     "data": {
      "text/plain": [
       "STATE\n",
       "Himachal Pradesh     476.851038\n",
       "Haryana             1528.380358\n",
       "Uttar Pradesh       1948.606461\n",
       "Uttarakhand         2185.310866\n",
       "Punjab              2467.246392\n",
       "Name: VALUE, dtype: float64"
      ]
     },
     "execution_count": 16,
     "metadata": {},
     "output_type": "execute_result"
    }
   ],
   "source": [
    "df3.groupby(df3['STATE']).mean()['VALUE'].sort_values() # the count of sales"
   ]
  },
  {
   "cell_type": "code",
   "execution_count": 17,
   "id": "fbd3102c",
   "metadata": {},
   "outputs": [
    {
     "data": {
      "text/plain": [
       "FIN_YEAR       object\n",
       "MONTH          object\n",
       "STATE          object\n",
       "FG             object\n",
       "DISTRICT       object\n",
       "COMPANY        object\n",
       "VALUE         float64\n",
       "Month-Year     object\n",
       "dtype: object"
      ]
     },
     "execution_count": 17,
     "metadata": {},
     "output_type": "execute_result"
    }
   ],
   "source": [
    "df3.dtypes"
   ]
  },
  {
   "cell_type": "code",
   "execution_count": 18,
   "id": "9e304e11",
   "metadata": {},
   "outputs": [
    {
     "name": "stderr",
     "output_type": "stream",
     "text": [
      "<ipython-input-18-a34e59cf085c>:1: SettingWithCopyWarning: \n",
      "A value is trying to be set on a copy of a slice from a DataFrame.\n",
      "Try using .loc[row_indexer,col_indexer] = value instead\n",
      "\n",
      "See the caveats in the documentation: https://pandas.pydata.org/pandas-docs/stable/user_guide/indexing.html#returning-a-view-versus-a-copy\n",
      "  df3['Y1']=df3['Month-Year'].apply(lambda x:x[6:]) # Splitting the month-year\n"
     ]
    }
   ],
   "source": [
    "df3['Y1']=df3['Month-Year'].apply(lambda x:x[6:]) # Splitting the month-year\n",
    "                                                     # as it combine of  years-month-date with hypen\n",
    "                                                     # Y1 column contains year"
   ]
  },
  {
   "cell_type": "code",
   "execution_count": 19,
   "id": "326e8bd1",
   "metadata": {},
   "outputs": [
    {
     "data": {
      "text/html": [
       "<div>\n",
       "<style scoped>\n",
       "    .dataframe tbody tr th:only-of-type {\n",
       "        vertical-align: middle;\n",
       "    }\n",
       "\n",
       "    .dataframe tbody tr th {\n",
       "        vertical-align: top;\n",
       "    }\n",
       "\n",
       "    .dataframe thead th {\n",
       "        text-align: right;\n",
       "    }\n",
       "</style>\n",
       "<table border=\"1\" class=\"dataframe\">\n",
       "  <thead>\n",
       "    <tr style=\"text-align: right;\">\n",
       "      <th></th>\n",
       "      <th>FIN_YEAR</th>\n",
       "      <th>MONTH</th>\n",
       "      <th>STATE</th>\n",
       "      <th>FG</th>\n",
       "      <th>DISTRICT</th>\n",
       "      <th>COMPANY</th>\n",
       "      <th>VALUE</th>\n",
       "      <th>Month-Year</th>\n",
       "      <th>Y1</th>\n",
       "    </tr>\n",
       "  </thead>\n",
       "  <tbody>\n",
       "    <tr>\n",
       "      <th>0</th>\n",
       "      <td>2014-2015</td>\n",
       "      <td>Nov</td>\n",
       "      <td>Haryana</td>\n",
       "      <td>Pesticides</td>\n",
       "      <td>Rohtak</td>\n",
       "      <td>monous</td>\n",
       "      <td>675.000</td>\n",
       "      <td>1-Nov-2014</td>\n",
       "      <td>2014</td>\n",
       "    </tr>\n",
       "    <tr>\n",
       "      <th>1</th>\n",
       "      <td>2014-2015</td>\n",
       "      <td>Nov</td>\n",
       "      <td>Haryana</td>\n",
       "      <td>Pesticides</td>\n",
       "      <td>Rewari</td>\n",
       "      <td>monous</td>\n",
       "      <td>73.710</td>\n",
       "      <td>1-Nov-2014</td>\n",
       "      <td>2014</td>\n",
       "    </tr>\n",
       "    <tr>\n",
       "      <th>2</th>\n",
       "      <td>2014-2015</td>\n",
       "      <td>Nov</td>\n",
       "      <td>Haryana</td>\n",
       "      <td>Pesticides</td>\n",
       "      <td>Gurgaon</td>\n",
       "      <td>monous</td>\n",
       "      <td>405.000</td>\n",
       "      <td>1-Nov-2014</td>\n",
       "      <td>2014</td>\n",
       "    </tr>\n",
       "    <tr>\n",
       "      <th>3</th>\n",
       "      <td>2014-2015</td>\n",
       "      <td>Nov</td>\n",
       "      <td>Haryana</td>\n",
       "      <td>Pesticides</td>\n",
       "      <td>Mewat</td>\n",
       "      <td>monous</td>\n",
       "      <td>1188.000</td>\n",
       "      <td>1-Nov-2014</td>\n",
       "      <td>2014</td>\n",
       "    </tr>\n",
       "    <tr>\n",
       "      <th>4</th>\n",
       "      <td>2014-2015</td>\n",
       "      <td>Nov</td>\n",
       "      <td>Haryana</td>\n",
       "      <td>Pesticides</td>\n",
       "      <td>Palwal</td>\n",
       "      <td>monous</td>\n",
       "      <td>5188.590</td>\n",
       "      <td>1-Nov-2014</td>\n",
       "      <td>2014</td>\n",
       "    </tr>\n",
       "    <tr>\n",
       "      <th>17</th>\n",
       "      <td>2014-2015</td>\n",
       "      <td>Dec</td>\n",
       "      <td>Haryana</td>\n",
       "      <td>Pesticides</td>\n",
       "      <td>Kurukshetra</td>\n",
       "      <td>cynoid</td>\n",
       "      <td>6622.965</td>\n",
       "      <td>1-Dec-2014</td>\n",
       "      <td>2014</td>\n",
       "    </tr>\n",
       "    <tr>\n",
       "      <th>18</th>\n",
       "      <td>2014-2015</td>\n",
       "      <td>Dec</td>\n",
       "      <td>Haryana</td>\n",
       "      <td>Pesticides</td>\n",
       "      <td>Kaithal</td>\n",
       "      <td>cynoid</td>\n",
       "      <td>7669.080</td>\n",
       "      <td>1-Dec-2014</td>\n",
       "      <td>2014</td>\n",
       "    </tr>\n",
       "    <tr>\n",
       "      <th>22</th>\n",
       "      <td>2014-2015</td>\n",
       "      <td>Dec</td>\n",
       "      <td>Haryana</td>\n",
       "      <td>Pesticides</td>\n",
       "      <td>Fatehabad</td>\n",
       "      <td>cynoid</td>\n",
       "      <td>398.250</td>\n",
       "      <td>1-Dec-2014</td>\n",
       "      <td>2014</td>\n",
       "    </tr>\n",
       "    <tr>\n",
       "      <th>23</th>\n",
       "      <td>2014-2015</td>\n",
       "      <td>Dec</td>\n",
       "      <td>Haryana</td>\n",
       "      <td>Pesticides</td>\n",
       "      <td>Sirsa</td>\n",
       "      <td>cynoid</td>\n",
       "      <td>7940.970</td>\n",
       "      <td>1-Dec-2014</td>\n",
       "      <td>2014</td>\n",
       "    </tr>\n",
       "    <tr>\n",
       "      <th>24</th>\n",
       "      <td>2014-2015</td>\n",
       "      <td>Dec</td>\n",
       "      <td>Haryana</td>\n",
       "      <td>Pesticides</td>\n",
       "      <td>Hisar</td>\n",
       "      <td>cynoid</td>\n",
       "      <td>7109.100</td>\n",
       "      <td>1-Dec-2014</td>\n",
       "      <td>2014</td>\n",
       "    </tr>\n",
       "  </tbody>\n",
       "</table>\n",
       "</div>"
      ],
      "text/plain": [
       "     FIN_YEAR MONTH    STATE          FG     DISTRICT  COMPANY     VALUE  \\\n",
       "0   2014-2015   Nov  Haryana  Pesticides       Rohtak  monous    675.000   \n",
       "1   2014-2015   Nov  Haryana  Pesticides       Rewari  monous     73.710   \n",
       "2   2014-2015   Nov  Haryana  Pesticides      Gurgaon  monous    405.000   \n",
       "3   2014-2015   Nov  Haryana  Pesticides        Mewat  monous   1188.000   \n",
       "4   2014-2015   Nov  Haryana  Pesticides       Palwal  monous   5188.590   \n",
       "17  2014-2015   Dec  Haryana  Pesticides  Kurukshetra  cynoid   6622.965   \n",
       "18  2014-2015   Dec  Haryana  Pesticides      Kaithal  cynoid   7669.080   \n",
       "22  2014-2015   Dec  Haryana  Pesticides    Fatehabad  cynoid    398.250   \n",
       "23  2014-2015   Dec  Haryana  Pesticides        Sirsa  cynoid   7940.970   \n",
       "24  2014-2015   Dec  Haryana  Pesticides        Hisar  cynoid   7109.100   \n",
       "\n",
       "    Month-Year    Y1  \n",
       "0   1-Nov-2014  2014  \n",
       "1   1-Nov-2014  2014  \n",
       "2   1-Nov-2014  2014  \n",
       "3   1-Nov-2014  2014  \n",
       "4   1-Nov-2014  2014  \n",
       "17  1-Dec-2014  2014  \n",
       "18  1-Dec-2014  2014  \n",
       "22  1-Dec-2014  2014  \n",
       "23  1-Dec-2014  2014  \n",
       "24  1-Dec-2014  2014  "
      ]
     },
     "execution_count": 19,
     "metadata": {},
     "output_type": "execute_result"
    }
   ],
   "source": [
    "df3.head(10)"
   ]
  },
  {
   "cell_type": "code",
   "execution_count": 20,
   "id": "c1eb2bc2",
   "metadata": {},
   "outputs": [],
   "source": [
    "yearly_sales_data = pd.pivot_table(df3, values = \"VALUE\", \n",
    "        columns = \"STATE\", index = \"Y1\") # yearly sales data here we can see in 2016 uttrakhand was in the lead\n",
    "# and in 2018 punjab sales was significantly lower compare to other states\n",
    "# where as in 2014 to 2017 punjab sales was siginficantly high"
   ]
  },
  {
   "cell_type": "code",
   "execution_count": 21,
   "id": "41e42c9b",
   "metadata": {},
   "outputs": [
    {
     "data": {
      "text/html": [
       "<div>\n",
       "<style scoped>\n",
       "    .dataframe tbody tr th:only-of-type {\n",
       "        vertical-align: middle;\n",
       "    }\n",
       "\n",
       "    .dataframe tbody tr th {\n",
       "        vertical-align: top;\n",
       "    }\n",
       "\n",
       "    .dataframe thead th {\n",
       "        text-align: right;\n",
       "    }\n",
       "</style>\n",
       "<table border=\"1\" class=\"dataframe\">\n",
       "  <thead>\n",
       "    <tr style=\"text-align: right;\">\n",
       "      <th>STATE</th>\n",
       "      <th>Haryana</th>\n",
       "      <th>Himachal Pradesh</th>\n",
       "      <th>Punjab</th>\n",
       "      <th>Uttar Pradesh</th>\n",
       "      <th>Uttarakhand</th>\n",
       "    </tr>\n",
       "    <tr>\n",
       "      <th>Y1</th>\n",
       "      <th></th>\n",
       "      <th></th>\n",
       "      <th></th>\n",
       "      <th></th>\n",
       "      <th></th>\n",
       "    </tr>\n",
       "  </thead>\n",
       "  <tbody>\n",
       "    <tr>\n",
       "      <th>2014</th>\n",
       "      <td>2261.832475</td>\n",
       "      <td>876.627000</td>\n",
       "      <td>2631.940787</td>\n",
       "      <td>2066.899851</td>\n",
       "      <td>1903.208167</td>\n",
       "    </tr>\n",
       "    <tr>\n",
       "      <th>2015</th>\n",
       "      <td>2216.323120</td>\n",
       "      <td>902.340397</td>\n",
       "      <td>2668.077802</td>\n",
       "      <td>1995.803318</td>\n",
       "      <td>2192.223025</td>\n",
       "    </tr>\n",
       "    <tr>\n",
       "      <th>2016</th>\n",
       "      <td>919.904278</td>\n",
       "      <td>262.013256</td>\n",
       "      <td>2479.736052</td>\n",
       "      <td>1852.197145</td>\n",
       "      <td>2508.357195</td>\n",
       "    </tr>\n",
       "    <tr>\n",
       "      <th>2017</th>\n",
       "      <td>1599.476721</td>\n",
       "      <td>430.339142</td>\n",
       "      <td>2237.386579</td>\n",
       "      <td>1910.201587</td>\n",
       "      <td>2046.900301</td>\n",
       "    </tr>\n",
       "    <tr>\n",
       "      <th>2018</th>\n",
       "      <td>1876.153675</td>\n",
       "      <td>966.211364</td>\n",
       "      <td>1516.096003</td>\n",
       "      <td>2090.359994</td>\n",
       "      <td>2358.734211</td>\n",
       "    </tr>\n",
       "  </tbody>\n",
       "</table>\n",
       "</div>"
      ],
      "text/plain": [
       "STATE      Haryana  Himachal Pradesh       Punjab  Uttar Pradesh  Uttarakhand\n",
       "Y1                                                                           \n",
       "2014   2261.832475        876.627000  2631.940787    2066.899851  1903.208167\n",
       "2015   2216.323120        902.340397  2668.077802    1995.803318  2192.223025\n",
       "2016    919.904278        262.013256  2479.736052    1852.197145  2508.357195\n",
       "2017   1599.476721        430.339142  2237.386579    1910.201587  2046.900301\n",
       "2018   1876.153675        966.211364  1516.096003    2090.359994  2358.734211"
      ]
     },
     "execution_count": 21,
     "metadata": {},
     "output_type": "execute_result"
    }
   ],
   "source": [
    "yearly_sales_data # yearly sales "
   ]
  },
  {
   "cell_type": "code",
   "execution_count": 22,
   "id": "e4ae2275",
   "metadata": {
    "scrolled": true
   },
   "outputs": [
    {
     "data": {
      "text/plain": [
       "<AxesSubplot:xlabel='Y1'>"
      ]
     },
     "execution_count": 22,
     "metadata": {},
     "output_type": "execute_result"
    },
    {
     "data": {
      "image/png": "[encoded data removed]",
      "text/plain": [
       "<Figure size 720x360 with 1 Axes>"
      ]
     },
     "metadata": {
      "needs_background": "light"
     },
     "output_type": "display_data"
    }
   ],
   "source": [
    "yearly_sales_data.plot.bar(figsize=(10,5))"
   ]
  },
  {
   "cell_type": "code",
   "execution_count": 23,
   "id": "ad74a68e",
   "metadata": {},
   "outputs": [],
   "source": [
    "Haryana=df3[df3['STATE']=='Haryana']# finding sales value for haryana"
   ]
  },
  {
   "cell_type": "code",
   "execution_count": 24,
   "id": "432cffcb",
   "metadata": {},
   "outputs": [],
   "source": [
    "Haryana=Haryana[['Month-Year','VALUE']]"
   ]
  },
  {
   "cell_type": "code",
   "execution_count": 25,
   "id": "d2867b18",
   "metadata": {},
   "outputs": [],
   "source": [
    "Haryana['Month-Year']=pd.to_datetime(Haryana['Month-Year']) # converting date in date time format"
   ]
  },
  {
   "cell_type": "code",
   "execution_count": 26,
   "id": "b6bef4b9",
   "metadata": {},
   "outputs": [
    {
     "data": {
      "text/plain": [
       "Month-Year    datetime64[ns]\n",
       "VALUE                float64\n",
       "dtype: object"
      ]
     },
     "execution_count": 26,
     "metadata": {},
     "output_type": "execute_result"
    }
   ],
   "source": [
    "Haryana.dtypes"
   ]
  },
  {
   "cell_type": "code",
   "execution_count": 27,
   "id": "2d94b542",
   "metadata": {
    "scrolled": true
   },
   "outputs": [
    {
     "name": "stderr",
     "output_type": "stream",
     "text": [
      "<ipython-input-27-054a81697a06>:1: FutureWarning: Treating datetime data as categorical rather than numeric in `.describe` is deprecated and will be removed in a future version of pandas. Specify `datetime_is_numeric=True` to silence this warning and adopt the future behavior now.\n",
      "  Haryana.describe(include='all')\n"
     ]
    },
    {
     "data": {
      "text/html": [
       "<div>\n",
       "<style scoped>\n",
       "    .dataframe tbody tr th:only-of-type {\n",
       "        vertical-align: middle;\n",
       "    }\n",
       "\n",
       "    .dataframe tbody tr th {\n",
       "        vertical-align: top;\n",
       "    }\n",
       "\n",
       "    .dataframe thead th {\n",
       "        text-align: right;\n",
       "    }\n",
       "</style>\n",
       "<table border=\"1\" class=\"dataframe\">\n",
       "  <thead>\n",
       "    <tr style=\"text-align: right;\">\n",
       "      <th></th>\n",
       "      <th>Month-Year</th>\n",
       "      <th>VALUE</th>\n",
       "    </tr>\n",
       "  </thead>\n",
       "  <tbody>\n",
       "    <tr>\n",
       "      <th>count</th>\n",
       "      <td>18323</td>\n",
       "      <td>18323.000000</td>\n",
       "    </tr>\n",
       "    <tr>\n",
       "      <th>unique</th>\n",
       "      <td>46</td>\n",
       "      <td>NaN</td>\n",
       "    </tr>\n",
       "    <tr>\n",
       "      <th>top</th>\n",
       "      <td>2016-11-01 00:00:00</td>\n",
       "      <td>NaN</td>\n",
       "    </tr>\n",
       "    <tr>\n",
       "      <th>freq</th>\n",
       "      <td>950</td>\n",
       "      <td>NaN</td>\n",
       "    </tr>\n",
       "    <tr>\n",
       "      <th>first</th>\n",
       "      <td>2014-04-01 00:00:00</td>\n",
       "      <td>NaN</td>\n",
       "    </tr>\n",
       "    <tr>\n",
       "      <th>last</th>\n",
       "      <td>2018-01-01 00:00:00</td>\n",
       "      <td>NaN</td>\n",
       "    </tr>\n",
       "    <tr>\n",
       "      <th>mean</th>\n",
       "      <td>NaN</td>\n",
       "      <td>1528.380358</td>\n",
       "    </tr>\n",
       "    <tr>\n",
       "      <th>std</th>\n",
       "      <td>NaN</td>\n",
       "      <td>2670.150006</td>\n",
       "    </tr>\n",
       "    <tr>\n",
       "      <th>min</th>\n",
       "      <td>NaN</td>\n",
       "      <td>0.135000</td>\n",
       "    </tr>\n",
       "    <tr>\n",
       "      <th>25%</th>\n",
       "      <td>NaN</td>\n",
       "      <td>135.000000</td>\n",
       "    </tr>\n",
       "    <tr>\n",
       "      <th>50%</th>\n",
       "      <td>NaN</td>\n",
       "      <td>508.005000</td>\n",
       "    </tr>\n",
       "    <tr>\n",
       "      <th>75%</th>\n",
       "      <td>NaN</td>\n",
       "      <td>1596.510000</td>\n",
       "    </tr>\n",
       "    <tr>\n",
       "      <th>max</th>\n",
       "      <td>NaN</td>\n",
       "      <td>34263.000000</td>\n",
       "    </tr>\n",
       "  </tbody>\n",
       "</table>\n",
       "</div>"
      ],
      "text/plain": [
       "                 Month-Year         VALUE\n",
       "count                 18323  18323.000000\n",
       "unique                   46           NaN\n",
       "top     2016-11-01 00:00:00           NaN\n",
       "freq                    950           NaN\n",
       "first   2014-04-01 00:00:00           NaN\n",
       "last    2018-01-01 00:00:00           NaN\n",
       "mean                    NaN   1528.380358\n",
       "std                     NaN   2670.150006\n",
       "min                     NaN      0.135000\n",
       "25%                     NaN    135.000000\n",
       "50%                     NaN    508.005000\n",
       "75%                     NaN   1596.510000\n",
       "max                     NaN  34263.000000"
      ]
     },
     "execution_count": 27,
     "metadata": {},
     "output_type": "execute_result"
    }
   ],
   "source": [
    "Haryana.describe(include='all')"
   ]
  },
  {
   "cell_type": "code",
   "execution_count": 28,
   "id": "e7408dfa",
   "metadata": {},
   "outputs": [],
   "source": [
    "Haryana=Haryana.sort_values('Month-Year',ascending=True)"
   ]
  },
  {
   "cell_type": "code",
   "execution_count": 29,
   "id": "18fe80f9",
   "metadata": {},
   "outputs": [],
   "source": [
    "Haryana=Haryana.groupby('Month-Year')['VALUE'].sum().reset_index()"
   ]
  },
  {
   "cell_type": "code",
   "execution_count": 30,
   "id": "0d59d368",
   "metadata": {},
   "outputs": [
    {
     "data": {
      "text/html": [
       "<div>\n",
       "<style scoped>\n",
       "    .dataframe tbody tr th:only-of-type {\n",
       "        vertical-align: middle;\n",
       "    }\n",
       "\n",
       "    .dataframe tbody tr th {\n",
       "        vertical-align: top;\n",
       "    }\n",
       "\n",
       "    .dataframe thead th {\n",
       "        text-align: right;\n",
       "    }\n",
       "</style>\n",
       "<table border=\"1\" class=\"dataframe\">\n",
       "  <thead>\n",
       "    <tr style=\"text-align: right;\">\n",
       "      <th></th>\n",
       "      <th>Month-Year</th>\n",
       "      <th>VALUE</th>\n",
       "    </tr>\n",
       "  </thead>\n",
       "  <tbody>\n",
       "    <tr>\n",
       "      <th>0</th>\n",
       "      <td>2014-04-01</td>\n",
       "      <td>2.139213e+05</td>\n",
       "    </tr>\n",
       "    <tr>\n",
       "      <th>1</th>\n",
       "      <td>2014-05-01</td>\n",
       "      <td>4.126341e+05</td>\n",
       "    </tr>\n",
       "    <tr>\n",
       "      <th>2</th>\n",
       "      <td>2014-06-01</td>\n",
       "      <td>5.628419e+05</td>\n",
       "    </tr>\n",
       "    <tr>\n",
       "      <th>3</th>\n",
       "      <td>2014-07-01</td>\n",
       "      <td>6.276602e+05</td>\n",
       "    </tr>\n",
       "    <tr>\n",
       "      <th>4</th>\n",
       "      <td>2014-08-01</td>\n",
       "      <td>4.917974e+05</td>\n",
       "    </tr>\n",
       "    <tr>\n",
       "      <th>5</th>\n",
       "      <td>2014-09-01</td>\n",
       "      <td>5.131802e+05</td>\n",
       "    </tr>\n",
       "    <tr>\n",
       "      <th>6</th>\n",
       "      <td>2014-10-01</td>\n",
       "      <td>6.192648e+05</td>\n",
       "    </tr>\n",
       "    <tr>\n",
       "      <th>7</th>\n",
       "      <td>2014-11-01</td>\n",
       "      <td>8.549993e+05</td>\n",
       "    </tr>\n",
       "    <tr>\n",
       "      <th>8</th>\n",
       "      <td>2014-12-01</td>\n",
       "      <td>9.443666e+05</td>\n",
       "    </tr>\n",
       "    <tr>\n",
       "      <th>9</th>\n",
       "      <td>2015-01-01</td>\n",
       "      <td>7.230763e+05</td>\n",
       "    </tr>\n",
       "    <tr>\n",
       "      <th>10</th>\n",
       "      <td>2015-02-01</td>\n",
       "      <td>4.576372e+05</td>\n",
       "    </tr>\n",
       "    <tr>\n",
       "      <th>11</th>\n",
       "      <td>2015-03-01</td>\n",
       "      <td>3.400998e+05</td>\n",
       "    </tr>\n",
       "    <tr>\n",
       "      <th>12</th>\n",
       "      <td>2015-04-01</td>\n",
       "      <td>4.130530e+05</td>\n",
       "    </tr>\n",
       "    <tr>\n",
       "      <th>13</th>\n",
       "      <td>2015-05-01</td>\n",
       "      <td>5.885980e+05</td>\n",
       "    </tr>\n",
       "    <tr>\n",
       "      <th>14</th>\n",
       "      <td>2015-06-01</td>\n",
       "      <td>6.790427e+05</td>\n",
       "    </tr>\n",
       "    <tr>\n",
       "      <th>15</th>\n",
       "      <td>2015-07-01</td>\n",
       "      <td>6.748179e+05</td>\n",
       "    </tr>\n",
       "    <tr>\n",
       "      <th>16</th>\n",
       "      <td>2015-08-01</td>\n",
       "      <td>6.213131e+05</td>\n",
       "    </tr>\n",
       "    <tr>\n",
       "      <th>17</th>\n",
       "      <td>2015-09-01</td>\n",
       "      <td>7.232695e+05</td>\n",
       "    </tr>\n",
       "    <tr>\n",
       "      <th>18</th>\n",
       "      <td>2015-10-01</td>\n",
       "      <td>1.048749e+06</td>\n",
       "    </tr>\n",
       "    <tr>\n",
       "      <th>19</th>\n",
       "      <td>2015-11-01</td>\n",
       "      <td>8.711933e+05</td>\n",
       "    </tr>\n",
       "    <tr>\n",
       "      <th>20</th>\n",
       "      <td>2015-12-01</td>\n",
       "      <td>8.179664e+05</td>\n",
       "    </tr>\n",
       "    <tr>\n",
       "      <th>21</th>\n",
       "      <td>2016-01-01</td>\n",
       "      <td>4.674340e+05</td>\n",
       "    </tr>\n",
       "    <tr>\n",
       "      <th>22</th>\n",
       "      <td>2016-02-01</td>\n",
       "      <td>3.259217e+05</td>\n",
       "    </tr>\n",
       "    <tr>\n",
       "      <th>23</th>\n",
       "      <td>2016-03-01</td>\n",
       "      <td>4.610791e+05</td>\n",
       "    </tr>\n",
       "    <tr>\n",
       "      <th>24</th>\n",
       "      <td>2016-04-01</td>\n",
       "      <td>1.446598e+05</td>\n",
       "    </tr>\n",
       "    <tr>\n",
       "      <th>25</th>\n",
       "      <td>2016-05-01</td>\n",
       "      <td>4.306768e+05</td>\n",
       "    </tr>\n",
       "    <tr>\n",
       "      <th>26</th>\n",
       "      <td>2016-06-01</td>\n",
       "      <td>7.458247e+05</td>\n",
       "    </tr>\n",
       "    <tr>\n",
       "      <th>27</th>\n",
       "      <td>2016-07-01</td>\n",
       "      <td>5.906471e+05</td>\n",
       "    </tr>\n",
       "    <tr>\n",
       "      <th>28</th>\n",
       "      <td>2016-08-01</td>\n",
       "      <td>5.117920e+05</td>\n",
       "    </tr>\n",
       "    <tr>\n",
       "      <th>29</th>\n",
       "      <td>2016-09-01</td>\n",
       "      <td>7.231072e+05</td>\n",
       "    </tr>\n",
       "    <tr>\n",
       "      <th>30</th>\n",
       "      <td>2016-10-01</td>\n",
       "      <td>6.038983e+05</td>\n",
       "    </tr>\n",
       "    <tr>\n",
       "      <th>31</th>\n",
       "      <td>2016-11-01</td>\n",
       "      <td>8.917156e+05</td>\n",
       "    </tr>\n",
       "    <tr>\n",
       "      <th>32</th>\n",
       "      <td>2016-12-01</td>\n",
       "      <td>1.048521e+06</td>\n",
       "    </tr>\n",
       "    <tr>\n",
       "      <th>33</th>\n",
       "      <td>2017-01-01</td>\n",
       "      <td>6.446695e+05</td>\n",
       "    </tr>\n",
       "    <tr>\n",
       "      <th>34</th>\n",
       "      <td>2017-02-01</td>\n",
       "      <td>2.778085e+05</td>\n",
       "    </tr>\n",
       "    <tr>\n",
       "      <th>35</th>\n",
       "      <td>2017-03-01</td>\n",
       "      <td>3.996988e+05</td>\n",
       "    </tr>\n",
       "    <tr>\n",
       "      <th>36</th>\n",
       "      <td>2017-04-01</td>\n",
       "      <td>2.088747e+05</td>\n",
       "    </tr>\n",
       "    <tr>\n",
       "      <th>37</th>\n",
       "      <td>2017-05-01</td>\n",
       "      <td>6.527876e+05</td>\n",
       "    </tr>\n",
       "    <tr>\n",
       "      <th>38</th>\n",
       "      <td>2017-06-01</td>\n",
       "      <td>8.733336e+05</td>\n",
       "    </tr>\n",
       "    <tr>\n",
       "      <th>39</th>\n",
       "      <td>2017-07-01</td>\n",
       "      <td>5.918381e+05</td>\n",
       "    </tr>\n",
       "    <tr>\n",
       "      <th>40</th>\n",
       "      <td>2017-08-01</td>\n",
       "      <td>4.888409e+05</td>\n",
       "    </tr>\n",
       "    <tr>\n",
       "      <th>41</th>\n",
       "      <td>2017-09-01</td>\n",
       "      <td>5.549741e+05</td>\n",
       "    </tr>\n",
       "    <tr>\n",
       "      <th>42</th>\n",
       "      <td>2017-10-01</td>\n",
       "      <td>7.038687e+05</td>\n",
       "    </tr>\n",
       "    <tr>\n",
       "      <th>43</th>\n",
       "      <td>2017-11-01</td>\n",
       "      <td>1.024278e+06</td>\n",
       "    </tr>\n",
       "    <tr>\n",
       "      <th>44</th>\n",
       "      <td>2017-12-01</td>\n",
       "      <td>9.078298e+05</td>\n",
       "    </tr>\n",
       "    <tr>\n",
       "      <th>45</th>\n",
       "      <td>2018-01-01</td>\n",
       "      <td>5.309515e+05</td>\n",
       "    </tr>\n",
       "  </tbody>\n",
       "</table>\n",
       "</div>"
      ],
      "text/plain": [
       "   Month-Year         VALUE\n",
       "0  2014-04-01  2.139213e+05\n",
       "1  2014-05-01  4.126341e+05\n",
       "2  2014-06-01  5.628419e+05\n",
       "3  2014-07-01  6.276602e+05\n",
       "4  2014-08-01  4.917974e+05\n",
       "5  2014-09-01  5.131802e+05\n",
       "6  2014-10-01  6.192648e+05\n",
       "7  2014-11-01  8.549993e+05\n",
       "8  2014-12-01  9.443666e+05\n",
       "9  2015-01-01  7.230763e+05\n",
       "10 2015-02-01  4.576372e+05\n",
       "11 2015-03-01  3.400998e+05\n",
       "12 2015-04-01  4.130530e+05\n",
       "13 2015-05-01  5.885980e+05\n",
       "14 2015-06-01  6.790427e+05\n",
       "15 2015-07-01  6.748179e+05\n",
       "16 2015-08-01  6.213131e+05\n",
       "17 2015-09-01  7.232695e+05\n",
       "18 2015-10-01  1.048749e+06\n",
       "19 2015-11-01  8.711933e+05\n",
       "20 2015-12-01  8.179664e+05\n",
       "21 2016-01-01  4.674340e+05\n",
       "22 2016-02-01  3.259217e+05\n",
       "23 2016-03-01  4.610791e+05\n",
       "24 2016-04-01  1.446598e+05\n",
       "25 2016-05-01  4.306768e+05\n",
       "26 2016-06-01  7.458247e+05\n",
       "27 2016-07-01  5.906471e+05\n",
       "28 2016-08-01  5.117920e+05\n",
       "29 2016-09-01  7.231072e+05\n",
       "30 2016-10-01  6.038983e+05\n",
       "31 2016-11-01  8.917156e+05\n",
       "32 2016-12-01  1.048521e+06\n",
       "33 2017-01-01  6.446695e+05\n",
       "34 2017-02-01  2.778085e+05\n",
       "35 2017-03-01  3.996988e+05\n",
       "36 2017-04-01  2.088747e+05\n",
       "37 2017-05-01  6.527876e+05\n",
       "38 2017-06-01  8.733336e+05\n",
       "39 2017-07-01  5.918381e+05\n",
       "40 2017-08-01  4.888409e+05\n",
       "41 2017-09-01  5.549741e+05\n",
       "42 2017-10-01  7.038687e+05\n",
       "43 2017-11-01  1.024278e+06\n",
       "44 2017-12-01  9.078298e+05\n",
       "45 2018-01-01  5.309515e+05"
      ]
     },
     "execution_count": 30,
     "metadata": {},
     "output_type": "execute_result"
    }
   ],
   "source": [
    "Haryana"
   ]
  },
  {
   "cell_type": "code",
   "execution_count": 31,
   "id": "c28f6e33",
   "metadata": {},
   "outputs": [],
   "source": [
    "Haryana=Haryana.set_index('Month-Year')"
   ]
  },
  {
   "cell_type": "code",
   "execution_count": 32,
   "id": "5a648f06",
   "metadata": {},
   "outputs": [],
   "source": [
    "y=Haryana['VALUE'].resample('M').mean() # resampling the  data monthly wise"
   ]
  },
  {
   "cell_type": "code",
   "execution_count": 33,
   "id": "911ad34e",
   "metadata": {},
   "outputs": [
    {
     "data": {
      "text/plain": [
       "Month-Year\n",
       "2014-04-30    2.139213e+05\n",
       "2014-05-31    4.126341e+05\n",
       "2014-06-30    5.628419e+05\n",
       "2014-07-31    6.276602e+05\n",
       "2014-08-31    4.917974e+05\n",
       "2014-09-30    5.131802e+05\n",
       "2014-10-31    6.192648e+05\n",
       "2014-11-30    8.549993e+05\n",
       "2014-12-31    9.443666e+05\n",
       "2015-01-31    7.230763e+05\n",
       "2015-02-28    4.576372e+05\n",
       "2015-03-31    3.400998e+05\n",
       "2015-04-30    4.130530e+05\n",
       "2015-05-31    5.885980e+05\n",
       "2015-06-30    6.790427e+05\n",
       "2015-07-31    6.748179e+05\n",
       "2015-08-31    6.213131e+05\n",
       "2015-09-30    7.232695e+05\n",
       "2015-10-31    1.048749e+06\n",
       "2015-11-30    8.711933e+05\n",
       "2015-12-31    8.179664e+05\n",
       "2016-01-31    4.674340e+05\n",
       "2016-02-29    3.259217e+05\n",
       "2016-03-31    4.610791e+05\n",
       "2016-04-30    1.446598e+05\n",
       "2016-05-31    4.306768e+05\n",
       "2016-06-30    7.458247e+05\n",
       "2016-07-31    5.906471e+05\n",
       "2016-08-31    5.117920e+05\n",
       "2016-09-30    7.231072e+05\n",
       "2016-10-31    6.038983e+05\n",
       "2016-11-30    8.917156e+05\n",
       "2016-12-31    1.048521e+06\n",
       "2017-01-31    6.446695e+05\n",
       "2017-02-28    2.778085e+05\n",
       "2017-03-31    3.996988e+05\n",
       "2017-04-30    2.088747e+05\n",
       "2017-05-31    6.527876e+05\n",
       "2017-06-30    8.733336e+05\n",
       "2017-07-31    5.918381e+05\n",
       "2017-08-31    4.888409e+05\n",
       "2017-09-30    5.549741e+05\n",
       "2017-10-31    7.038687e+05\n",
       "2017-11-30    1.024278e+06\n",
       "2017-12-31    9.078298e+05\n",
       "2018-01-31    5.309515e+05\n",
       "Freq: M, Name: VALUE, dtype: float64"
      ]
     },
     "execution_count": 33,
     "metadata": {},
     "output_type": "execute_result"
    }
   ],
   "source": [
    "y"
   ]
  },
  {
   "cell_type": "code",
   "execution_count": 34,
   "id": "2dd9106e",
   "metadata": {},
   "outputs": [
    {
     "data": {
      "text/plain": [
       "(46,)"
      ]
     },
     "execution_count": 34,
     "metadata": {},
     "output_type": "execute_result"
    }
   ],
   "source": [
    "y.shape"
   ]
  },
  {
   "cell_type": "code",
   "execution_count": 35,
   "id": "72955943",
   "metadata": {},
   "outputs": [
    {
     "data": {
      "image/png": "[encoded data removed]",
      "text/plain": [
       "<Figure size 720x432 with 1 Axes>"
      ]
     },
     "metadata": {
      "needs_background": "light"
     },
     "output_type": "display_data"
    }
   ],
   "source": [
    "y.plot(figsize=(10,6))\n",
    "plt.show()"
   ]
  },
  {
   "cell_type": "code",
   "execution_count": 36,
   "id": "f9ccbf7a",
   "metadata": {},
   "outputs": [
    {
     "name": "stdout",
     "output_type": "stream",
     "text": [
      "(36,)\n"
     ]
    },
    {
     "data": {
      "text/plain": [
       "Month-Year\n",
       "2014-04-30    2.139213e+05\n",
       "2014-05-31    4.126341e+05\n",
       "2014-06-30    5.628419e+05\n",
       "2014-07-31    6.276602e+05\n",
       "2014-08-31    4.917974e+05\n",
       "2014-09-30    5.131802e+05\n",
       "2014-10-31    6.192648e+05\n",
       "2014-11-30    8.549993e+05\n",
       "2014-12-31    9.443666e+05\n",
       "2015-01-31    7.230763e+05\n",
       "2015-02-28    4.576372e+05\n",
       "2015-03-31    3.400998e+05\n",
       "2015-04-30    4.130530e+05\n",
       "2015-05-31    5.885980e+05\n",
       "2015-06-30    6.790427e+05\n",
       "2015-07-31    6.748179e+05\n",
       "2015-08-31    6.213131e+05\n",
       "2015-09-30    7.232695e+05\n",
       "2015-10-31    1.048749e+06\n",
       "2015-11-30    8.711933e+05\n",
       "2015-12-31    8.179664e+05\n",
       "2016-01-31    4.674340e+05\n",
       "2016-02-29    3.259217e+05\n",
       "2016-03-31    4.610791e+05\n",
       "2016-04-30    1.446598e+05\n",
       "2016-05-31    4.306768e+05\n",
       "2016-06-30    7.458247e+05\n",
       "2016-07-31    5.906471e+05\n",
       "2016-08-31    5.117920e+05\n",
       "2016-09-30    7.231072e+05\n",
       "2016-10-31    6.038983e+05\n",
       "2016-11-30    8.917156e+05\n",
       "2016-12-31    1.048521e+06\n",
       "2017-01-31    6.446695e+05\n",
       "2017-02-28    2.778085e+05\n",
       "2017-03-31    3.996988e+05\n",
       "Freq: M, Name: VALUE, dtype: float64"
      ]
     },
     "execution_count": 36,
     "metadata": {},
     "output_type": "execute_result"
    }
   ],
   "source": [
    "train=y.loc[:'2017-03-31'] # we are taking first 3 years data for training\n",
    "print(train.shape)\n",
    "train"
   ]
  },
  {
   "cell_type": "code",
   "execution_count": 37,
   "id": "f913c6de",
   "metadata": {},
   "outputs": [
    {
     "name": "stdout",
     "output_type": "stream",
     "text": [
      "(10,)\n"
     ]
    },
    {
     "data": {
      "text/plain": [
       "Month-Year\n",
       "2017-04-30    2.088747e+05\n",
       "2017-05-31    6.527876e+05\n",
       "2017-06-30    8.733336e+05\n",
       "2017-07-31    5.918381e+05\n",
       "2017-08-31    4.888409e+05\n",
       "2017-09-30    5.549741e+05\n",
       "2017-10-31    7.038687e+05\n",
       "2017-11-30    1.024278e+06\n",
       "2017-12-31    9.078298e+05\n",
       "2018-01-31    5.309515e+05\n",
       "Freq: M, Name: VALUE, dtype: float64"
      ]
     },
     "execution_count": 37,
     "metadata": {},
     "output_type": "execute_result"
    }
   ],
   "source": [
    "test=y.loc['2017-04-30':] # remaining data  as testing\n",
    "print(test.shape)\n",
    "test"
   ]
  },
  {
   "cell_type": "code",
   "execution_count": 38,
   "id": "8854356c",
   "metadata": {},
   "outputs": [
    {
     "name": "stderr",
     "output_type": "stream",
     "text": [
      "C:\\Users\\Abhishekh\\anaconda3\\lib\\site-packages\\pandas\\plotting\\_matplotlib\\core.py:697: MatplotlibDeprecationWarning: Case-insensitive properties were deprecated in 3.3 and support will be removed two minor releases later\n",
      "  return ax.plot(*args, **kwds)\n",
      "C:\\Users\\Abhishekh\\anaconda3\\lib\\site-packages\\pandas\\plotting\\_matplotlib\\core.py:697: MatplotlibDeprecationWarning: Case-insensitive properties were deprecated in 3.3 and support will be removed two minor releases later\n",
      "  return ax.plot(*args, **kwds)\n"
     ]
    },
    {
     "data": {
      "image/png": "[encoded data removed]",
      "text/plain": [
       "<Figure size 720x432 with 1 Axes>"
      ]
     },
     "metadata": {
      "needs_background": "light"
     },
     "output_type": "display_data"
    }
   ],
   "source": [
    "train.plot(figsize=(10,6),title='Average Sales',fontsize=14,C='red')\n",
    "test.plot(figsize=(10,6),title='Average Sales',fontsize=14,C='green')\n",
    "plt.show() # here we can see that seasonality in data and also trend from april to jan there is increase in sales"
   ]
  },
  {
   "cell_type": "code",
   "execution_count": 39,
   "id": "21295664",
   "metadata": {},
   "outputs": [
    {
     "data": {
      "image/png": "[encoded data removed]",
      "text/plain": [
       "<Figure size 432x288 with 4 Axes>"
      ]
     },
     "metadata": {
      "needs_background": "light"
     },
     "output_type": "display_data"
    }
   ],
   "source": [
    "import statsmodels.api as sm\n",
    "decomposition = sm.tsa.seasonal_decompose(y)\n",
    "fig = decomposition.plot()\n",
    "plt.show() # here we can see that financial yearly trend is present and then it follows seasonality"
   ]
  },
  {
   "cell_type": "code",
   "execution_count": 40,
   "id": "cad089fe",
   "metadata": {},
   "outputs": [
    {
     "name": "stderr",
     "output_type": "stream",
     "text": [
      "C:\\Users\\Abhishekh\\anaconda3\\lib\\site-packages\\statsmodels\\tsa\\holtwinters\\model.py:427: FutureWarning: After 0.13 initialization must be handled at model creation\n",
      "  warnings.warn(\n",
      "C:\\Users\\Abhishekh\\anaconda3\\lib\\site-packages\\statsmodels\\tsa\\holtwinters\\model.py:920: ConvergenceWarning: Optimization failed to converge. Check mle_retvals.\n",
      "  warnings.warn(\n"
     ]
    },
    {
     "data": {
      "image/png": "[encoded data removed]",
      "text/plain": [
       "<Figure size 720x432 with 1 Axes>"
      ]
     },
     "metadata": {
      "needs_background": "light"
     },
     "output_type": "display_data"
    }
   ],
   "source": [
    "from statsmodels.tsa.api import ExponentialSmoothing # so we are using tren + seasonality model which holt linear model\n",
    "Holt_Winter_df = test.copy()\n",
    "#seasonalperiods=gamma\n",
    "fit1 = ExponentialSmoothing(train ,seasonal_periods=12,\n",
    "                            trend='add',\n",
    "                            seasonal='add').fit()\n",
    "Holt_Winter_df['Holt_Winter'] = fit1.forecast(steps=len(test))\n",
    "\n",
    "train.plot(figsize=(10,6), title= 'Average Sales', fontsize=14)\n",
    "test.plot(figsize=(10,6), title= 'Average Sales', fontsize=14)\n",
    "Holt_Winter_df['Holt_Winter'].plot(figsize=(10,6), title= 'Average Sales', fontsize=14)\n",
    "plt.show()"
   ]
  },
  {
   "cell_type": "code",
   "execution_count": 41,
   "id": "02b6221c",
   "metadata": {},
   "outputs": [
    {
     "data": {
      "text/plain": [
       "880.4053458144255"
      ]
     },
     "execution_count": 41,
     "metadata": {},
     "output_type": "execute_result"
    }
   ],
   "source": [
    "fit1.aic"
   ]
  },
  {
   "cell_type": "code",
   "execution_count": 42,
   "id": "8fc3db53",
   "metadata": {},
   "outputs": [
    {
     "name": "stdout",
     "output_type": "stream",
     "text": [
      "137910.90427800632\n"
     ]
    }
   ],
   "source": [
    "from sklearn.metrics import mean_squared_error\n",
    "from math import sqrt\n",
    "rmse = sqrt(mean_squared_error(test,Holt_Winter_df['Holt_Winter']))\n",
    "print(rmse) # rmse value"
   ]
  },
  {
   "cell_type": "code",
   "execution_count": 46,
   "id": "d9c8194f",
   "metadata": {},
   "outputs": [
    {
     "data": {
      "text/plain": [
       "17.4122581064241"
      ]
     },
     "execution_count": 46,
     "metadata": {},
     "output_type": "execute_result"
    }
   ],
   "source": [
    "np.mean(np.abs(test-Holt_Winter_df['Holt_Winter'])/test)*100"
   ]
  },
  {
   "cell_type": "code",
   "execution_count": 44,
   "id": "fbe4db74",
   "metadata": {},
   "outputs": [
    {
     "data": {
      "text/plain": [
       "2017-04-30    2.477630e+05\n",
       "2017-05-31    4.564210e+05\n",
       "2017-06-30    6.194977e+05\n",
       "2017-07-31    6.600760e+05\n",
       "2017-08-31    5.447624e+05\n",
       "2017-09-30    5.950922e+05\n",
       "2017-10-31    6.986627e+05\n",
       "2017-11-30    9.077449e+05\n",
       "2017-12-31    1.001297e+06\n",
       "2018-01-31    7.632296e+05\n",
       "Freq: M, dtype: float64"
      ]
     },
     "execution_count": 44,
     "metadata": {},
     "output_type": "execute_result"
    }
   ],
   "source": [
    "Holt_Winter_df['Holt_Winter']"
   ]
  },
  {
   "cell_type": "code",
   "execution_count": 47,
   "id": "d9c51c96",
   "metadata": {},
   "outputs": [
    {
     "name": "stderr",
     "output_type": "stream",
     "text": [
      "C:\\Users\\Abhishekh\\anaconda3\\lib\\site-packages\\statsmodels\\tsa\\holtwinters\\model.py:427: FutureWarning: After 0.13 initialization must be handled at model creation\n",
      "  warnings.warn(\n",
      "C:\\Users\\Abhishekh\\anaconda3\\lib\\site-packages\\statsmodels\\tsa\\holtwinters\\model.py:920: ConvergenceWarning: Optimization failed to converge. Check mle_retvals.\n",
      "  warnings.warn(\n"
     ]
    },
    {
     "data": {
      "image/png": "[encoded data removed]",
      "text/plain": [
       "<Figure size 720x432 with 1 Axes>"
      ]
     },
     "metadata": {
      "needs_background": "light"
     },
     "output_type": "display_data"
    }
   ],
   "source": [
    "from statsmodels.tsa.api import ExponentialSmoothing\n",
    "\n",
    "#seasonalperiods=gamma\n",
    "fit1 = ExponentialSmoothing(y ,seasonal_periods=12,\n",
    "                            trend='add',\n",
    "                            seasonal='add').fit()\n",
    "#Y_predictions = fit1.predict(start=pd.to_datetime('2017-04-30'))\n",
    "Y_predictions = fit1.forecast(steps=12)\n",
    "\n",
    "y.plot(figsize=(10,6), title= 'Average Sales', fontsize=14)\n",
    "Y_predictions.plot(figsize=(10,6), title= 'Average Sales', fontsize=14)\n",
    "plt.show()"
   ]
  },
  {
   "cell_type": "code",
   "execution_count": 48,
   "id": "b4c89cf1",
   "metadata": {},
   "outputs": [
    {
     "data": {
      "text/plain": [
       "46"
      ]
     },
     "execution_count": 48,
     "metadata": {},
     "output_type": "execute_result"
    }
   ],
   "source": [
    "len(y)"
   ]
  },
  {
   "cell_type": "markdown",
   "id": "d5918041",
   "metadata": {},
   "source": [
    "## using seasonal arima for seasonal and trend analysis"
   ]
  },
  {
   "cell_type": "code",
   "execution_count": 49,
   "id": "d457130b",
   "metadata": {},
   "outputs": [],
   "source": [
    "import  pmdarima as pm"
   ]
  },
  {
   "cell_type": "code",
   "execution_count": 50,
   "id": "07dde35c",
   "metadata": {},
   "outputs": [
    {
     "name": "stdout",
     "output_type": "stream",
     "text": [
      "Performing stepwise search to minimize aic\n",
      " ARIMA(0,1,0)(0,1,0)[12]             : AIC=904.151, Time=1.59 sec\n",
      " ARIMA(1,1,0)(1,1,0)[12]             : AIC=896.146, Time=0.73 sec\n",
      " ARIMA(0,1,1)(0,1,1)[12]             : AIC=894.348, Time=0.11 sec\n",
      " ARIMA(0,1,1)(0,1,0)[12]             : AIC=899.330, Time=0.06 sec\n",
      " ARIMA(0,1,1)(1,1,1)[12]             : AIC=895.476, Time=0.16 sec\n",
      " ARIMA(0,1,1)(0,1,2)[12]             : AIC=895.303, Time=0.38 sec\n",
      " ARIMA(0,1,1)(1,1,0)[12]             : AIC=893.532, Time=0.11 sec\n",
      " ARIMA(0,1,1)(2,1,0)[12]             : AIC=895.457, Time=0.17 sec\n",
      " ARIMA(0,1,1)(2,1,1)[12]             : AIC=897.350, Time=0.77 sec\n",
      " ARIMA(0,1,0)(1,1,0)[12]             : AIC=896.292, Time=0.05 sec\n",
      " ARIMA(1,1,1)(1,1,0)[12]             : AIC=894.533, Time=0.30 sec\n",
      " ARIMA(0,1,2)(1,1,0)[12]             : AIC=893.316, Time=0.11 sec\n",
      " ARIMA(0,1,2)(0,1,0)[12]             : AIC=899.069, Time=0.03 sec\n",
      " ARIMA(0,1,2)(2,1,0)[12]             : AIC=895.199, Time=0.26 sec\n",
      " ARIMA(0,1,2)(1,1,1)[12]             : AIC=895.220, Time=0.35 sec\n",
      " ARIMA(0,1,2)(0,1,1)[12]             : AIC=893.815, Time=0.17 sec\n",
      " ARIMA(0,1,2)(2,1,1)[12]             : AIC=897.126, Time=0.77 sec\n",
      " ARIMA(1,1,2)(1,1,0)[12]             : AIC=894.466, Time=0.44 sec\n",
      " ARIMA(0,1,3)(1,1,0)[12]             : AIC=893.527, Time=0.12 sec\n",
      " ARIMA(1,1,3)(1,1,0)[12]             : AIC=895.403, Time=0.29 sec\n",
      " ARIMA(0,1,2)(1,1,0)[12] intercept   : AIC=896.621, Time=0.31 sec\n",
      "\n",
      "Best model:  ARIMA(0,1,2)(1,1,0)[12]          \n",
      "Total fit time: 8.551 seconds\n"
     ]
    }
   ],
   "source": [
    "model = pm.auto_arima(y,start_p=0, max_p=3, d=None, max_d=2,start_q=0, max_q=3,  \n",
    "                      start_P=0,max_P=3, D=None, max_D=2, start_Q=0, max_Q=3,\n",
    "                      max_order=10, m=12, seasonal=True, information_criterion='aic',\n",
    "                      test='adf',trace=True,random_state=10)"
   ]
  },
  {
   "cell_type": "code",
   "execution_count": 51,
   "id": "8082cefa",
   "metadata": {},
   "outputs": [
    {
     "data": {
      "text/plain": [
       "893.3161801835461"
      ]
     },
     "execution_count": 51,
     "metadata": {},
     "output_type": "execute_result"
    }
   ],
   "source": [
    "model.aic()"
   ]
  },
  {
   "cell_type": "code",
   "execution_count": 52,
   "id": "a7f1e440",
   "metadata": {},
   "outputs": [],
   "source": [
    "from statsmodels.tsa.statespace.sarimax import SARIMAX\n",
    "model = SARIMAX(y,\n",
    "               order=(0,1,2),seasonal_order=(1,1,0,12)).fit()"
   ]
  },
  {
   "cell_type": "code",
   "execution_count": 53,
   "id": "d28051f4",
   "metadata": {},
   "outputs": [
    {
     "data": {
      "image/png": "[encoded data removed]",
      "text/plain": [
       "<Figure size 720x432 with 1 Axes>"
      ]
     },
     "metadata": {
      "needs_background": "light"
     },
     "output_type": "display_data"
    }
   ],
   "source": [
    "pred = model.get_prediction(start=pd.to_datetime('2017-04-30'))\n",
    "#pred = model.get_forecast(steps=12)\n",
    "\n",
    "plt.figure(figsize=(10,6))\n",
    "ax = y['2014':].plot(label=\"observed\")\n",
    "pred.predicted_mean.plot(ax=ax, label=\"Validation Forecast\")\n",
    "ax.set_xlabel(\"Date\")\n",
    "ax.set_ylabel(\"Value\")\n",
    "plt.legend()\n",
    "plt.show()"
   ]
  },
  {
   "cell_type": "code",
   "execution_count": 54,
   "id": "1952708a",
   "metadata": {},
   "outputs": [
    {
     "data": {
      "text/plain": [
       "Month-Year\n",
       "2017-04-30    2.616440e+05\n",
       "2017-05-31    4.628929e+05\n",
       "2017-06-30    8.038703e+05\n",
       "2017-07-31    7.242673e+05\n",
       "2017-08-31    5.655164e+05\n",
       "2017-09-30    7.054316e+05\n",
       "2017-10-31    6.999184e+05\n",
       "2017-11-30    8.144122e+05\n",
       "2017-12-31    1.006062e+06\n",
       "2018-01-31    5.318954e+05\n",
       "Freq: M, Name: predicted_mean, dtype: float64"
      ]
     },
     "execution_count": 54,
     "metadata": {},
     "output_type": "execute_result"
    }
   ],
   "source": [
    "pred.predicted_mean"
   ]
  },
  {
   "cell_type": "code",
   "execution_count": 55,
   "id": "f6999a4c",
   "metadata": {},
   "outputs": [
    {
     "name": "stdout",
     "output_type": "stream",
     "text": [
      "119763.73526274039\n"
     ]
    }
   ],
   "source": [
    "Y_pred=pred.predicted_mean\n",
    "Y_test=y['2017-04-30':]\n",
    "from sklearn.metrics import mean_squared_error\n",
    "from math import sqrt\n",
    "rms=sqrt(mean_squared_error(Y_test,Y_pred))\n",
    "print(rms)"
   ]
  },
  {
   "cell_type": "code",
   "execution_count": 56,
   "id": "370749ab",
   "metadata": {},
   "outputs": [
    {
     "data": {
      "image/png": "[encoded data removed]",
      "text/plain": [
       "<Figure size 720x432 with 1 Axes>"
      ]
     },
     "metadata": {
      "needs_background": "light"
     },
     "output_type": "display_data"
    }
   ],
   "source": [
    "#pred = model.get_prediction(start=pd.to_datetime('2017-04-30'))\n",
    "pred = model.get_forecast(steps=12)\n",
    "\n",
    "plt.figure(figsize=(10,6))\n",
    "ax = y['2014':].plot(label=\"observed\")\n",
    "pred.predicted_mean.plot(ax=ax, label=\"Validation Forecast\")\n",
    "ax.set_xlabel(\"Date\")\n",
    "ax.set_ylabel(\"Value\")\n",
    "plt.legend()\n",
    "plt.show()"
   ]
  },
  {
   "cell_type": "code",
   "execution_count": 57,
   "id": "70570596",
   "metadata": {},
   "outputs": [
    {
     "data": {
      "text/plain": [
       "15.95277355569543"
      ]
     },
     "execution_count": 57,
     "metadata": {},
     "output_type": "execute_result"
    }
   ],
   "source": [
    "np.mean(np.abs(Y_test-Y_pred)/test)*100 # mape and rmse is better with sarima"
   ]
  },
  {
   "cell_type": "code",
   "execution_count": null,
   "id": "65ae0cab",
   "metadata": {},
   "outputs": [],
   "source": [
    "pred.predicted_mean.to_excel('TimeSeriesOutput.xlsx',index=True)"
   ]
  }
 ],
 "metadata": {
  "kernelspec": {
   "display_name": "Python 3",
   "language": "python",
   "name": "python3"
  },
  "language_info": {
   "codemirror_mode": {
    "name": "ipython",
    "version": 3
   },
   "file_extension": ".py",
   "mimetype": "text/x-python",
   "name": "python",
   "nbconvert_exporter": "python",
   "pygments_lexer": "ipython3",
   "version": "3.8.8"
  }
 },
 "nbformat": 4,
 "nbformat_minor": 5
}
